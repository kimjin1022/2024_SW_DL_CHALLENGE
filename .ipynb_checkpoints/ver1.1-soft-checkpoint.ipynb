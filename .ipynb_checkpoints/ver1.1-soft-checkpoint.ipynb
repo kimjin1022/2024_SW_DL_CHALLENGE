{
 "cells": [
  {
   "cell_type": "code",
   "execution_count": 1,
   "metadata": {
    "colab": {
     "base_uri": "https://localhost:8080/"
    },
    "id": "qdf2xXO78pch",
    "outputId": "67be29c9-083c-476a-a1f5-3026a82664b9"
   },
   "outputs": [],
   "source": [
    "import pandas as pd\n",
    "from tqdm import tqdm\n",
    "from natsort import natsorted\n",
    "import os, json, open_clip, torch\n",
    "from torchvision.datasets import ImageFolder\n",
    "from torch.utils.data import DataLoader\n",
    "\n",
    "import os\n",
    "import json\n",
    "import torch\n",
    "from torch.utils.data import DataLoader\n",
    "from torchvision.datasets import ImageFolder\n",
    "from natsort import natsorted\n",
    "import pandas as pd\n",
    "from tqdm import tqdm\n",
    "import open_clip\n",
    "from datetime import datetime"
   ]
  },
  {
   "cell_type": "code",
   "execution_count": 23,
   "metadata": {},
   "outputs": [],
   "source": [
    "# 0. Settings\n",
    "device = 'cuda:2'\n",
    "model_name = 'ViT-L-14'\n",
    "pretrained = 'openai'\n",
    "root = './'\n",
    "dataset_name = 'Scene'\n",
    "\n",
    "# 1. Load CLIP model\n",
    "model, _, preprocess = open_clip.create_model_and_transforms(model_name, pretrained=pretrained)\n",
    "tokenizer = open_clip.get_tokenizer(model_name)\n",
    "\n",
    "# 2. Load test dataset with data augmentation\n",
    "ds = ImageFolder(os.path.join(root, dataset_name), transform=preprocess)\n",
    "ds.samples = natsorted(ds.samples)\n",
    "dl = DataLoader(ds, shuffle=False, batch_size=32, num_workers=2)"
   ]
  },
  {
   "cell_type": "code",
   "execution_count": 24,
   "metadata": {},
   "outputs": [
    {
     "name": "stderr",
     "output_type": "stream",
     "text": [
      "100%|█████████████████████████████████████████| 254/254 [00:50<00:00,  5.03it/s]\n"
     ]
    }
   ],
   "source": [
    "# 3. Load class name list\n",
    "with open(os.path.join(root, 'classes.json'), 'r') as j:\n",
    "     class_names = json.loads(j.read())\n",
    "\n",
    "# Enhanced text prompts\n",
    "prompts = [f\"A photo of a {class_name}\" for class_name in class_names]\n",
    "\n",
    "# 4. Perform zero-shot classification\n",
    "zero_shot_top1 = 0\n",
    "submission = dict({'id_idx': list(range(8100)), 'label': []})\n",
    "with torch.no_grad(), torch.cuda.amp.autocast():\n",
    "    text = tokenizer(prompts)\n",
    "    text_features = model.encode_text(text)\n",
    "    text_features /= text_features.norm(dim=-1, keepdim=True)\n",
    "    model = model.to(device)\n",
    "    for x, y in tqdm(dl):\n",
    "        x = x.cuda(device)\n",
    "        image_features = model.encode_image(x).to('cpu').float()\n",
    "        image_features /= image_features.norm(dim=-1, keepdim=True)\n",
    "        zero_shot_probs = (int(model.logit_scale.exp()) * image_features @ text_features.T).softmax(dim=-1)\n",
    "\n",
    "        rst = zero_shot_probs.tolist()\n",
    "        submission['label'] += rst\n",
    "\n",
    "#5. Save prediction as submission.scv file.\n",
    "current_time = datetime.now().strftime(\"%Y%m%d_%H%M%S\")\n",
    "file_name = f'1-1_soft_submission_{current_time}.csv'\n",
    "pd.DataFrame(submission).to_csv(os.path.join(root, file_name), index=False)"
   ]
  }
 ],
 "metadata": {
  "accelerator": "GPU",
  "colab": {
   "collapsed_sections": [
    "w2zS1z71y653"
   ],
   "gpuType": "T4",
   "provenance": []
  },
  "kernelspec": {
   "display_name": "Python 3 (ipykernel)",
   "language": "python",
   "name": "python3"
  },
  "language_info": {
   "codemirror_mode": {
    "name": "ipython",
    "version": 3
   },
   "file_extension": ".py",
   "mimetype": "text/x-python",
   "name": "python",
   "nbconvert_exporter": "python",
   "pygments_lexer": "ipython3",
   "version": "3.10.14"
  }
 },
 "nbformat": 4,
 "nbformat_minor": 4
}
