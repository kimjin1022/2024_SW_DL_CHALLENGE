{
 "cells": [
  {
   "cell_type": "code",
   "execution_count": 9,
   "id": "bb5d0944-bba5-4fef-b6b3-f5366efb639b",
   "metadata": {},
   "outputs": [
    {
     "name": "stdout",
     "output_type": "stream",
     "text": [
      "40.5% that image 0 is 'a photo of 2 cats'\n"
     ]
    }
   ],
   "source": [
    "from PIL import Image\n",
    "import requests\n",
    "from transformers import AutoProcessor, AutoModel\n",
    "import torch\n",
    "\n",
    "model = AutoModel.from_pretrained(\"google/siglip-so400m-patch14-384\")\n",
    "processor = AutoProcessor.from_pretrained(\"google/siglip-so400m-patch14-384\")\n",
    "\n",
    "url = \"http://images.cocodataset.org/val2017/000000039769.jpg\"\n",
    "image = Image.open(requests.get(url, stream=True).raw)\n",
    "\n",
    "texts = [\"a photo of 2 cats\", \"a photo of 2 dogs\"]\n",
    "inputs = processor(text=texts, images=image, padding=\"max_length\", return_tensors=\"pt\")\n",
    "\n",
    "with torch.no_grad():\n",
    "    outputs = model(**inputs)\n",
    "\n",
    "logits_per_image = outputs.logits_per_image\n",
    "probs = torch.sigmoid(logits_per_image) # these are the probabilities\n",
    "print(f\"{probs[0][0]:.1%} that image 0 is '{texts[0]}'\")"
   ]
  },
  {
   "cell_type": "code",
   "execution_count": null,
   "id": "8e8b00da-f7fb-4ca8-bb35-8224578c81bf",
   "metadata": {},
   "outputs": [
    {
     "name": "stdout",
     "output_type": "stream",
     "text": [
      "1 "
     ]
    }
   ],
   "source": [
    "submission = dict({'id_idx': [], 'label': []})\n",
    "\n",
    "label = ['Buildings', 'Forests', 'Glacier', 'Mountains', 'Sea', 'Street']\n",
    "prompts = []\n",
    "\n",
    "for class_name in label:\n",
    "    prompts.extend([\n",
    "        f\"A photo of a {class_name}\",\n",
    "        f\"An image depicting a {class_name}\",\n",
    "        f\"A scenic view of {class_name}\",\n",
    "        f\"A {class_name} landscape\",\n",
    "        f\"A snapshot of a {class_name}\",\n",
    "        f\"A beautiful {class_name} scene\",\n",
    "        f\"An artistic representation of {class_name}\",\n",
    "        f\"A {class_name} captured in nature\",\n",
    "        f\"A {class_name} during sunset\",\n",
    "        f\"A serene {class_name} environment\"\n",
    "    ])\n",
    "\n",
    "for idx in range(81):\n",
    "    print(idx+1, end=\" \")\n",
    "    images = []\n",
    "    for i in range(100):\n",
    "        images.append(Image.open(f\"./Scene/0/{idx*100 + i}.jpg\"))\n",
    "    \n",
    "    inputs = processor(text=prompts, images=images, padding=\"max_length\", return_tensors=\"pt\")\n",
    "    \n",
    "    with torch.no_grad():\n",
    "        outputs = model(**inputs)\n",
    "\n",
    "    logits_per_image = outputs.logits_per_image\n",
    "    probs = torch.sigmoid(logits_per_image)\n",
    "    rst = probs.argmax(axis=1)\n",
    "    rst = rst.numpy()\n",
    "    rst = rst//10\n",
    "    print(rst)\n",
    "    \n",
    "    submission['label'] += list(rst)\n",
    "    \n",
    "    file_name = f'submission_SIGLIP-P10.csv'\n",
    "    submission['id_idx'] = list(range(len(submission['label'])))\n",
    "    pd.DataFrame(submission).to_csv(os.path.join(\"./submissions/\", file_name), index=False)"
   ]
  },
  {
   "cell_type": "code",
   "execution_count": null,
   "id": "297b400d-8d33-46d3-9544-fd0c1aee4ca6",
   "metadata": {},
   "outputs": [],
   "source": [
    "print(file_name)"
   ]
  }
 ],
 "metadata": {
  "kernelspec": {
   "display_name": "Python 3 (ipykernel)",
   "language": "python",
   "name": "python3"
  },
  "language_info": {
   "codemirror_mode": {
    "name": "ipython",
    "version": 3
   },
   "file_extension": ".py",
   "mimetype": "text/x-python",
   "name": "python",
   "nbconvert_exporter": "python",
   "pygments_lexer": "ipython3",
   "version": "3.10.14"
  }
 },
 "nbformat": 4,
 "nbformat_minor": 5
}
