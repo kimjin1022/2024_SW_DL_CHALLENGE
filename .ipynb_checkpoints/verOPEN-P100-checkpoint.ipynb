{
 "cells": [
  {
   "cell_type": "code",
   "execution_count": 1,
   "metadata": {
    "colab": {
     "base_uri": "https://localhost:8080/"
    },
    "id": "qdf2xXO78pch",
    "outputId": "67be29c9-083c-476a-a1f5-3026a82664b9"
   },
   "outputs": [],
   "source": [
    "import pandas as pd\n",
    "from tqdm import tqdm\n",
    "from natsort import natsorted\n",
    "import os, json, open_clip, torch\n",
    "from torchvision.datasets import ImageFolder\n",
    "from torch.utils.data import DataLoader\n",
    "\n",
    "import os\n",
    "import json\n",
    "import torch\n",
    "from torch.utils.data import DataLoader\n",
    "from torchvision.datasets import ImageFolder\n",
    "from natsort import natsorted\n",
    "import pandas as pd\n",
    "from tqdm import tqdm\n",
    "import open_clip\n",
    "from datetime import datetime\n",
    "from open_clip import create_model_from_pretrained, get_tokenizer"
   ]
  },
  {
   "cell_type": "code",
   "execution_count": null,
   "metadata": {},
   "outputs": [
    {
     "name": "stderr",
     "output_type": "stream",
     "text": [
      " 20%|████████▍                                 | 51/254 [00:27<01:39,  2.05it/s]"
     ]
    }
   ],
   "source": [
    "# 0. Settings\n",
    "device = 'cuda:3'\n",
    "model_name = 'ViT-L-14-336'\n",
    "pretrained = 'openai'\n",
    "root = './'\n",
    "dataset_name = 'Scene'\n",
    "\n",
    "# 1. Load CLIP model\n",
    "model, preprocess = open_clip.create_model_from_pretrained(model_name, pretrained=pretrained)\n",
    "tokenizer = open_clip.get_tokenizer(model_name)\n",
    "\n",
    "# 2. Load test dataset with data augmentation\n",
    "ds = ImageFolder(os.path.join(root, dataset_name), transform=preprocess)\n",
    "ds.samples = natsorted(ds.samples)\n",
    "dl = DataLoader(ds, shuffle=False, batch_size=32, num_workers=2)\n",
    "\n",
    "# 3. Load class name list\n",
    "with open(os.path.join(root, 'classes.json'), 'r') as j:\n",
    "    class_names = json.loads(j.read())\n",
    "\n",
    "# Generate detailed prompts\n",
    "\n",
    "prompts = ['Buildings', 'Forests', 'Glacier', 'Mountains', 'Sea', 'Street']\n",
    "\n",
    "for class_name in class_names:\n",
    "    prompts.extend([\n",
    "        f\"A photo of a {class_name}\",\n",
    "        f\"An image depicting a {class_name}\",\n",
    "        f\"A scenic view of {class_name}\",\n",
    "        f\"A {class_name} landscape\",\n",
    "        f\"A snapshot of a {class_name}\",\n",
    "        f\"A beautiful {class_name} scene\",\n",
    "        f\"An artistic representation of {class_name}\",\n",
    "        f\"A {class_name} captured in nature\",\n",
    "        f\"A {class_name} during sunset\",\n",
    "        f\"A serene {class_name} environment\"\n",
    "    ])\n",
    "\n",
    "# Perform zero-shot classification\n",
    "zero_shot_top1 = 0\n",
    "submission = dict({'id_idx': list(range(len(ds))), 'label': []})\n",
    "\n",
    "with torch.no_grad(), torch.cuda.amp.autocast():\n",
    "    text = tokenizer(prompts)\n",
    "    text_features = model.encode_text(text).to('cpu')\n",
    "    text_features /= text_features.norm(dim=-1, keepdim=True)\n",
    "\n",
    "model = model.to(device)\n",
    "\n",
    "for x, y in tqdm(dl):\n",
    "    x = x.cuda(device)\n",
    "    with torch.no_grad(), torch.cuda.amp.autocast():\n",
    "        image_features = model.encode_image(x).to('cpu').float()\n",
    "        image_features /= image_features.norm(dim=-1, keepdim=True)\n",
    "        zero_shot_probs = (100.0 * image_features @ text_features.T).softmax(dim=-1)\n",
    "        zero_shot_pred = zero_shot_probs.argmax(dim=-1).tolist()\n",
    "        # Map predictions to class indices 0-5\n",
    "        zero_shot_pred_mapped = [pred // 10 for pred in zero_shot_pred]\n",
    "        submission['label'] += zero_shot_pred_mapped\n",
    "\n",
    "# 5. Save prediction as submission.scv file.\n",
    "current_time = datetime.now().strftime(\"%Y%m%d_%H%M%S\")\n",
    "file_name = 'OPEN-P10.csv'\n",
    "print(file_name)\n",
    "pd.DataFrame(submission).to_csv(os.path.join(root+\"submissions/\", file_name), index=False)"
   ]
  }
 ],
 "metadata": {
  "accelerator": "GPU",
  "colab": {
   "collapsed_sections": [
    "w2zS1z71y653"
   ],
   "gpuType": "T4",
   "provenance": []
  },
  "kernelspec": {
   "display_name": "Python 3 (ipykernel)",
   "language": "python",
   "name": "python3"
  },
  "language_info": {
   "codemirror_mode": {
    "name": "ipython",
    "version": 3
   },
   "file_extension": ".py",
   "mimetype": "text/x-python",
   "name": "python",
   "nbconvert_exporter": "python",
   "pygments_lexer": "ipython3",
   "version": "3.10.14"
  }
 },
 "nbformat": 4,
 "nbformat_minor": 4
}
