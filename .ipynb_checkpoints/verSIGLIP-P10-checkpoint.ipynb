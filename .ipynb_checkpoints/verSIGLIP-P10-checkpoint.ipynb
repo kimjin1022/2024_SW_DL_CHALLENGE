{
 "cells": [
  {
   "cell_type": "code",
   "execution_count": 1,
   "id": "bb5d0944-bba5-4fef-b6b3-f5366efb639b",
   "metadata": {},
   "outputs": [
    {
     "name": "stdout",
     "output_type": "stream",
     "text": [
      "40.5% that image 0 is 'a photo of 2 cats'\n"
     ]
    }
   ],
   "source": [
    "from PIL import Image\n",
    "import requests\n",
    "from transformers import AutoProcessor, AutoModel\n",
    "import torch\n",
    "\n",
    "model = AutoModel.from_pretrained(\"google/siglip-so400m-patch14-384\")\n",
    "processor = AutoProcessor.from_pretrained(\"google/siglip-so400m-patch14-384\")\n",
    "\n",
    "url = \"http://images.cocodataset.org/val2017/000000039769.jpg\"\n",
    "image = Image.open(requests.get(url, stream=True).raw)\n",
    "\n",
    "texts = [\"a photo of 2 cats\", \"a photo of 2 dogs\"]\n",
    "inputs = processor(text=texts, images=image, padding=\"max_length\", return_tensors=\"pt\")\n",
    "\n",
    "with torch.no_grad():\n",
    "    outputs = model(**inputs)\n",
    "\n",
    "logits_per_image = outputs.logits_per_image\n",
    "probs = torch.sigmoid(logits_per_image) # these are the probabilities\n",
    "print(f\"{probs[0][0]:.1%} that image 0 is '{texts[0]}'\")"
   ]
  },
  {
   "cell_type": "code",
   "execution_count": 20,
   "id": "1b6e739c-0931-4f84-b545-5e54c1ba9b9b",
   "metadata": {},
   "outputs": [],
   "source": [
    "from datetime import datetime\n",
    "import pandas as pd\n",
    "import os"
   ]
  },
  {
   "cell_type": "code",
   "execution_count": 21,
   "id": "8e8b00da-f7fb-4ca8-bb35-8224578c81bf",
   "metadata": {},
   "outputs": [
    {
     "name": "stdout",
     "output_type": "stream",
     "text": [
      "1 2 3 4 5 6 7 8 9 10 11 12 13 14 15 16 17 18 19 20 21 22 23 24 25 26 27 28 29 30 31 32 33 34 35 36 37 38 39 40 41 42 43 44 45 46 47 48 49 50 51 52 53 54 55 56 57 58 59 60 61 62 63 64 65 66 67 68 69 70 71 72 73 74 75 76 77 78 79 80 81 "
     ]
    }
   ],
   "source": [
    "current_time = datetime.now().strftime(\"%Y%m%d_%H%M%S\")\n",
    "\n",
    "submission = dict({'id_idx': [], 'label': []})\n",
    "\n",
    "for idx in range(81):\n",
    "    print(idx+1, end=\" \")\n",
    "    images = []\n",
    "    for i in range(100):\n",
    "        images.append(Image.open(f\"./Scene/0/{idx*100 + i}.jpg\"))\n",
    "    \n",
    "    texts = ['Buildings', 'Forests', 'Glacier', 'Mountains', 'Sea', 'Street']\n",
    "    inputs = processor(text=texts, images=images, padding=\"max_length\", return_tensors=\"pt\")\n",
    "    \n",
    "    with torch.no_grad():\n",
    "        outputs = model(**inputs)\n",
    "\n",
    "    logits_per_image = outputs.logits_per_image\n",
    "    probs = torch.sigmoid(logits_per_image)\n",
    "    rst = probs.argmax(axis=1)\n",
    "    rst = rst.numpy()\n",
    "\n",
    "    submission['label'] += list(rst)\n",
    "    \n",
    "    file_name = f'submission_{current_time}.csv'\n",
    "    submission['id_idx'] = list(range(len(submission['label'])))\n",
    "    pd.DataFrame(submission).to_csv(os.path.join(\"./submissions/\", file_name), index=False)"
   ]
  },
  {
   "cell_type": "code",
   "execution_count": 22,
   "id": "297b400d-8d33-46d3-9544-fd0c1aee4ca6",
   "metadata": {},
   "outputs": [
    {
     "name": "stdout",
     "output_type": "stream",
     "text": [
      "submission_20240828_130720.csv\n"
     ]
    }
   ],
   "source": [
    "print(file_name)"
   ]
  }
 ],
 "metadata": {
  "kernelspec": {
   "display_name": "Python 3 (ipykernel)",
   "language": "python",
   "name": "python3"
  },
  "language_info": {
   "codemirror_mode": {
    "name": "ipython",
    "version": 3
   },
   "file_extension": ".py",
   "mimetype": "text/x-python",
   "name": "python",
   "nbconvert_exporter": "python",
   "pygments_lexer": "ipython3",
   "version": "3.10.14"
  }
 },
 "nbformat": 4,
 "nbformat_minor": 5
}
