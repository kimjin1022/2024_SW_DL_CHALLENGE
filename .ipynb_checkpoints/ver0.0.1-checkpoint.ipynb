{
 "cells": [
  {
   "cell_type": "code",
   "execution_count": 2,
   "id": "35c9bf7f-9554-4728-ac97-dfc29ecdb84a",
   "metadata": {},
   "outputs": [],
   "source": [
    "import os\n",
    "import pandas as pd\n",
    "\n",
    "import torch\n",
    "import torch.optim as optim\n",
    "import torch.nn as nn\n",
    "from torch.utils.data import Dataset, DataLoader\n",
    "\n",
    "import torchvision.models as models # 이미지\n",
    "from torchvision import transforms\n",
    "from PIL import Image\n",
    "\n",
    "from transformers import GPT2Tokenizer, GPT2Model # 텍스트\n",
    "\n",
    "from tqdm.auto import tqdm"
   ]
  },
  {
   "cell_type": "code",
   "execution_count": 3,
   "id": "f08d8777-b684-4c4e-917c-8f9a38a2fae2",
   "metadata": {},
   "outputs": [],
   "source": [
    "class VQADataset(Dataset):\n",
    "    def __init__(self, tokenizer, transform, img_path, is_test=False):\n",
    "        self.tokenizer = tokenizer\n",
    "        self.transform = transform\n",
    "        self.img_path = img_path\n",
    "        self.is_test = is_test\n",
    "\n",
    "    def __len__(self):\n",
    "        files = [f for f in os.listdir(self.img_path)]\n",
    "        return len(files)\n",
    "\n",
    "    def __getitem__(self, idx):\n",
    "        img_name = os.path.join(self.img_path, str(idx)+'jpg')\n",
    "        image = Image.open(img_name).convert('RGB')\n",
    "        imgae = self.transform(image)"
   ]
  },
  {
   "cell_type": "code",
   "execution_count": 39,
   "id": "04e89312-c6e4-468e-a293-b5fffd9c3f40",
   "metadata": {},
   "outputs": [
    {
     "name": "stdout",
     "output_type": "stream",
     "text": [
      "[{'score': 0.0146, 'label': 'street'}, {'score': 0.007, 'label': 'building'}, {'score': 0.0001, 'label': 'forest'}, {'score': 0.0001, 'label': 'sea'}, {'score': 0.0, 'label': 'glacier'}, {'score': 0.0, 'label': 'mountain'}]\n"
     ]
    }
   ],
   "source": [
    "from transformers import pipeline\n",
    "from PIL import Image\n",
    "import requests\n",
    "\n",
    "# load pipe\n",
    "image_classifier = pipeline(task=\"zero-shot-image-classification\", model=\"google/siglip-so400m-patch14-384\", device='cuda')\n",
    "\n",
    "# load image\n",
    "image = Image.open(\"./Scene/0/0.jpg\")\n",
    "\n",
    "# inference\n",
    "outputs = image_classifier(image, candidate_labels=['building', 'forest', 'glacier', 'mountain', 'sea', 'street'])\n",
    "outputs = [{\"score\": round(output[\"score\"], 4), \"label\": output[\"label\"] } for output in outputs]\n",
    "print(outputs)"
   ]
  },
  {
   "cell_type": "code",
   "execution_count": null,
   "id": "b7891259-ba11-49bb-885e-614b67f0b083",
   "metadata": {},
   "outputs": [],
   "source": []
  }
 ],
 "metadata": {
  "kernelspec": {
   "display_name": "Python 3 (ipykernel)",
   "language": "python",
   "name": "python3"
  },
  "language_info": {
   "codemirror_mode": {
    "name": "ipython",
    "version": 3
   },
   "file_extension": ".py",
   "mimetype": "text/x-python",
   "name": "python",
   "nbconvert_exporter": "python",
   "pygments_lexer": "ipython3",
   "version": "3.10.14"
  }
 },
 "nbformat": 4,
 "nbformat_minor": 5
}
