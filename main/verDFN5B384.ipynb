{
 "cells": [
  {
   "cell_type": "code",
   "execution_count": 1,
   "id": "6870bee1-9870-4232-972c-209777c00a8d",
   "metadata": {},
   "outputs": [
    {
     "data": {
      "application/vnd.jupyter.widget-view+json": {
       "model_id": "fcde6ecd40dc43049fb1303686f409f1",
       "version_major": 2,
       "version_minor": 0
      },
      "text/plain": [
       "open_clip_pytorch_model.bin:   0%|          | 0.00/3.95G [00:00<?, ?B/s]"
      ]
     },
     "metadata": {},
     "output_type": "display_data"
    },
    {
     "data": {
      "application/vnd.jupyter.widget-view+json": {
       "model_id": "e88a43eb0a394e8ca41c07b2f4db40fe",
       "version_major": 2,
       "version_minor": 0
      },
      "text/plain": [
       "open_clip_config.json:   0%|          | 0.00/735 [00:00<?, ?B/s]"
      ]
     },
     "metadata": {},
     "output_type": "display_data"
    }
   ],
   "source": [
    "import torch\n",
    "import torch.nn.functional as F\n",
    "from urllib.request import urlopen\n",
    "from PIL import Image\n",
    "from open_clip import create_model_from_pretrained, get_tokenizer \n",
    "\n",
    "model, preprocess = create_model_from_pretrained('hf-hub:apple/DFN5B-CLIP-ViT-H-14-384')\n",
    "\n",
    "tokenizer = get_tokenizer('ViT-H-14')\n",
    "\n",
    "image = Image.open(\"./Scene/0/0.jpg\")\n",
    "image = preprocess(image).unsqueeze(0)\n",
    "\n",
    "labels_list = ['Buildings', 'Forests', 'Glacier', 'Mountains', 'Sea', 'Street']\n",
    "text = tokenizer(labels_list, context_length=model.context_length)"
   ]
  },
  {
   "cell_type": "code",
   "execution_count": 2,
   "id": "b3967136-aa0d-4ab2-8b06-f2248bd9ce79",
   "metadata": {},
   "outputs": [
    {
     "name": "stdout",
     "output_type": "stream",
     "text": [
      "Label probabilities:  [('Buildings', 0.909), ('Forests', 0.696), ('Glacier', 0.863), ('Mountains', 0.641), ('Sea', 0.71), ('Street', 0.962)]\n"
     ]
    }
   ],
   "source": [
    "with torch.no_grad(), torch.cuda.amp.autocast():\n",
    "    image_features = model.encode_image(image)\n",
    "    text_features = model.encode_text(text)\n",
    "    image_features = F.normalize(image_features, dim=-1)\n",
    "    text_features = F.normalize(text_features, dim=-1)\n",
    "\n",
    "    text_probs = torch.sigmoid(image_features @ text_features.T * model.logit_scale.exp())\n",
    "\n",
    "zipped_list = list(zip(labels_list, [round(p.item(), 3) for p in text_probs[0]]))\n",
    "print(\"Label probabilities: \", zipped_list)"
   ]
  },
  {
   "cell_type": "code",
   "execution_count": 27,
   "id": "c6b098ba-4bea-4c95-ab80-4ceebbafe8dd",
   "metadata": {},
   "outputs": [],
   "source": [
    "from datetime import datetime\n",
    "import pandas as pd\n",
    "import os"
   ]
  },
  {
   "cell_type": "code",
   "execution_count": 30,
   "id": "78e06bd1-f3d6-48d3-b0df-6a8bbfc0ac68",
   "metadata": {},
   "outputs": [
    {
     "name": "stdout",
     "output_type": "stream",
     "text": [
      "100\n",
      "200\n",
      "300\n",
      "400\n",
      "500\n",
      "600\n",
      "700\n",
      "800\n",
      "900\n",
      "1000\n",
      "1100\n",
      "1200\n",
      "1300\n",
      "1400\n",
      "1500\n",
      "1600\n",
      "1700\n",
      "1800\n",
      "1900\n",
      "2000\n",
      "2100\n",
      "2200\n",
      "2300\n",
      "2400\n",
      "2500\n",
      "2600\n",
      "2700\n",
      "2800\n",
      "2900\n",
      "3000\n",
      "3100\n",
      "3200\n",
      "3300\n",
      "3400\n",
      "3500\n",
      "3600\n",
      "3700\n",
      "3800\n",
      "3900\n",
      "4000\n",
      "4100\n",
      "4200\n",
      "4300\n",
      "4400\n",
      "4500\n",
      "4600\n",
      "4700\n",
      "4800\n",
      "4900\n",
      "5000\n",
      "5100\n",
      "5200\n",
      "5300\n",
      "5400\n",
      "5500\n",
      "5600\n",
      "5700\n",
      "5800\n",
      "5900\n",
      "6000\n",
      "6100\n",
      "6200\n",
      "6300\n",
      "6400\n",
      "6500\n",
      "6600\n",
      "6700\n",
      "6800\n",
      "6900\n",
      "7000\n",
      "7100\n",
      "7200\n",
      "7300\n",
      "7400\n",
      "7500\n",
      "7600\n",
      "7700\n",
      "7800\n",
      "7900\n",
      "8000\n",
      "8100\n"
     ]
    }
   ],
   "source": [
    "current_time = datetime.now().strftime(\"%Y%m%d_%H%M%S\")\n",
    "\n",
    "img_nums = 8100\n",
    "submission = dict({'id_idx': [], 'label': []})\n",
    "\n",
    "for idx in range(img_nums):\n",
    "    image = Image.open(f\"./Scene/0/{idx}.jpg\")\n",
    "    image = preprocess(image).unsqueeze(0)\n",
    "\n",
    "    with torch.no_grad(), torch.cuda.amp.autocast():\n",
    "        image_features = model.encode_image(image)\n",
    "        text_features = model.encode_text(text)\n",
    "        image_features = F.normalize(image_features, dim=-1)\n",
    "        text_features = F.normalize(text_features, dim=-1)    \n",
    "        text_probs = torch.sigmoid(image_features @ text_features.T * model.logit_scale.exp())\n",
    "\n",
    "    submission['label'] += [int(text_probs.argmax().cpu())]\n",
    "    \n",
    "    if (idx+1)%100 == 0:\n",
    "        file_name = f'submission_{current_time}.csv'\n",
    "        submission['id_idx'] = list(range(len(submission['label'])))\n",
    "        pd.DataFrame(submission).to_csv(os.path.join(\"./submissions/\", file_name), index=False)\n",
    "        print(idx+1)"
   ]
  },
  {
   "cell_type": "code",
   "execution_count": null,
   "id": "97830226-d362-4346-998a-a4eda54b58ef",
   "metadata": {},
   "outputs": [],
   "source": []
  },
  {
   "cell_type": "code",
   "execution_count": null,
   "id": "1586805e-1c27-4cbd-adb3-d6ef1fb9c45b",
   "metadata": {},
   "outputs": [],
   "source": []
  }
 ],
 "metadata": {
  "kernelspec": {
   "display_name": "Python 3 (ipykernel)",
   "language": "python",
   "name": "python3"
  },
  "language_info": {
   "codemirror_mode": {
    "name": "ipython",
    "version": 3
   },
   "file_extension": ".py",
   "mimetype": "text/x-python",
   "name": "python",
   "nbconvert_exporter": "python",
   "pygments_lexer": "ipython3",
   "version": "3.10.14"
  }
 },
 "nbformat": 4,
 "nbformat_minor": 5
}
