{
 "cells": [
  {
   "cell_type": "code",
   "execution_count": 18,
   "id": "534a5997-ca35-40e7-810e-942474597438",
   "metadata": {},
   "outputs": [],
   "source": [
    "from transformers import pipeline\n",
    "from PIL import Image\n",
    "import requests\n",
    "from datetime import datetime\n",
    "import pandas as pd\n",
    "import os\n",
    "import torch"
   ]
  },
  {
   "cell_type": "code",
   "execution_count": 19,
   "id": "53567f55-62f4-4450-8b06-a7d86c3da901",
   "metadata": {},
   "outputs": [],
   "source": [
    "# load pipe\n",
    "device = 'cuda'\n",
    "image_classifier = pipeline(task=\"zero-shot-image-classification\", model=\"google/siglip-so400m-patch14-384\")"
   ]
  },
  {
   "cell_type": "code",
   "execution_count": 20,
   "id": "46c68b5e-4d34-413e-b8af-e8ddd53cd897",
   "metadata": {},
   "outputs": [
    {
     "name": "stdout",
     "output_type": "stream",
     "text": [
      "[{'score': 0.0146, 'label': 'street'}, {'score': 0.007, 'label': 'building'}, {'score': 0.0001, 'label': 'forest'}, {'score': 0.0001, 'label': 'sea'}, {'score': 0.0, 'label': 'glacier'}, {'score': 0.0, 'label': 'mountain'}]\n"
     ]
    }
   ],
   "source": [
    "# load image\n",
    "image = Image.open(f\"./Scene/0/{0}.jpg\")\n",
    "\n",
    "# inference\n",
    "outputs = image_classifier(image, candidate_labels=['building', 'forest', 'glacier', 'mountain', 'sea', 'street'])\n",
    "outputs = [{\"score\": round(output[\"score\"], 4), \"label\": output[\"label\"] } for output in outputs]\n",
    "print(outputs)"
   ]
  },
  {
   "cell_type": "code",
   "execution_count": 21,
   "id": "78979ace-606d-4af2-b874-5d037ef9b644",
   "metadata": {},
   "outputs": [],
   "source": [
    "def label2index(gen_label):\n",
    "    labels = ['building', 'forest', 'glacier', 'mountain', 'sea', 'street']\n",
    "    for idx, text in enumerate(labels):\n",
    "        if text == gen_label:\n",
    "            return idx\n",
    "    return -1"
   ]
  },
  {
   "cell_type": "code",
   "execution_count": 22,
   "id": "6e6d48c5-7bb0-4a2a-b919-9cf9a99953ac",
   "metadata": {},
   "outputs": [
    {
     "name": "stdout",
     "output_type": "stream",
     "text": [
      "3300 출력 후 끊김\n"
     ]
    }
   ],
   "source": [
    "# img_nums = 8100\n",
    "# submission = dict({'id_idx': list(range(img_nums)), 'label': []})\n",
    "# start_time = datetime.now().strftime(\"%Y%m%d_%H%M%S\")\n",
    "# file_name = f'submission_{start_time}.csv'\n",
    "\n",
    "# for idx in range(81):\n",
    "#     print(idx*100)\n",
    "\n",
    "#     images = []\n",
    "#     for i in range(100):\n",
    "#         image_idx = f\"./Scene/0/{idx*100 + i}.jpg\"\n",
    "#         images.append(image_idx)\n",
    "\n",
    "#     outputs = image_classifier(images, candidate_labels=['building', 'forest', 'glacier', 'mountain', 'sea', 'street'])\n",
    "\n",
    "#     for i in range(100):\n",
    "#         img_label = outputs[i][0]['label']\n",
    "#         submission['label'] += [label2index(img_label)]\n",
    "\n",
    "#     submission['id_idx'] = list(range(len(submission['label'])))\n",
    "#     pd.DataFrame(submission).to_csv(os.path.join(\"/home/jinjinjara1022/ajou/submissions/\", file_name), index=False)\n",
    "\n",
    "# submission['id_idx'] = list(range(len(submission['label'])))\n",
    "# pd.DataFrame(submission).to_csv(os.path.join(\"/home/jinjinjara1022/ajou/submissions/\", file_name), index=False)\n",
    "print(\"3300 출력 후 끊김\")"
   ]
  },
  {
   "cell_type": "code",
   "execution_count": 23,
   "id": "f1cd2ce9-1fee-404c-9ab0-ae2d1df9a3fd",
   "metadata": {},
   "outputs": [],
   "source": [
    "remain_data = pd.read_csv(\"/home/jinjinjara1022/ajou/submissions/submission_20240821_194937.csv\")\n",
    "submission = dict({'id_idx':[], 'label':[]})\n",
    "submission['id_idx'] += list(remain_data['id_idx'])\n",
    "submission['label'] += list(remain_data['label'])"
   ]
  },
  {
   "cell_type": "code",
   "execution_count": 24,
   "id": "e0f52048-b602-43d4-a7f5-73f3d369a83d",
   "metadata": {},
   "outputs": [
    {
     "data": {
      "text/plain": [
       "3300"
      ]
     },
     "execution_count": 24,
     "metadata": {},
     "output_type": "execute_result"
    }
   ],
   "source": [
    "len(submission['id_idx'])"
   ]
  },
  {
   "cell_type": "code",
   "execution_count": null,
   "id": "cf1b7a39-f643-4ea8-9eb6-1fb45afe0319",
   "metadata": {},
   "outputs": [
    {
     "name": "stdout",
     "output_type": "stream",
     "text": [
      "3300\n",
      "3310\n",
      "3320\n",
      "3330\n",
      "3340\n",
      "3350\n",
      "3360\n",
      "3370\n",
      "3380\n",
      "3390\n"
     ]
    }
   ],
   "source": [
    "start_time = datetime.now().strftime(\"%Y%m%d_%H%M%S\")\n",
    "file_name = f'submission_{start_time}.csv'\n",
    "\n",
    "for idx in range(330, 810):\n",
    "    print(idx*10)\n",
    "\n",
    "    images = []\n",
    "    for i in range(10):\n",
    "        image_idx = f\"./Scene/0/{idx*10 + i}.jpg\"\n",
    "        images.append(image_idx)\n",
    "\n",
    "    outputs = image_classifier(images, candidate_labels=['building', 'forest', 'glacier', 'mountain', 'sea', 'street'])\n",
    "\n",
    "    for i in range(10):\n",
    "        img_label = outputs[i][0]['label']\n",
    "        submission['label'] += [label2index(img_label)]\n",
    "\n",
    "    \n",
    "    submission['id_idx'] = list(range(len(submission['label'])))\n",
    "    pd.DataFrame(submission).to_csv(os.path.join(\"/home/jinjinjara1022/ajou/submissions/\", file_name), index=False)\n",
    "\n",
    "submission['id_idx'] = list(range(len(submission['label'])))\n",
    "pd.DataFrame(submission).to_csv(os.path.join(\"/home/jinjinjara1022/ajou/submissions/\", file_name), index=False)"
   ]
  },
  {
   "cell_type": "code",
   "execution_count": null,
   "id": "b8241cc1-e455-4649-8f37-4a45036a865e",
   "metadata": {},
   "outputs": [],
   "source": []
  }
 ],
 "metadata": {
  "kernelspec": {
   "display_name": "Python 3 (ipykernel)",
   "language": "python",
   "name": "python3"
  },
  "language_info": {
   "codemirror_mode": {
    "name": "ipython",
    "version": 3
   },
   "file_extension": ".py",
   "mimetype": "text/x-python",
   "name": "python",
   "nbconvert_exporter": "python",
   "pygments_lexer": "ipython3",
   "version": "3.10.14"
  }
 },
 "nbformat": 4,
 "nbformat_minor": 5
}
