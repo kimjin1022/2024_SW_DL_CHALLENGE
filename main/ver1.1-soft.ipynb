{
 "cells": [
  {
   "cell_type": "code",
   "execution_count": 1,
   "metadata": {
    "colab": {
     "base_uri": "https://localhost:8080/"
    },
    "id": "qdf2xXO78pch",
    "outputId": "67be29c9-083c-476a-a1f5-3026a82664b9"
   },
   "outputs": [],
   "source": [
    "import pandas as pd\n",
    "from tqdm import tqdm\n",
    "from natsort import natsorted\n",
    "import os, json, open_clip, torch\n",
    "from torchvision.datasets import ImageFolder\n",
    "from torch.utils.data import DataLoader\n",
    "import torch.nn.functional as F\n",
    "\n",
    "import os\n",
    "import json\n",
    "import torch\n",
    "from torch.utils.data import DataLoader\n",
    "from torchvision.datasets import ImageFolder\n",
    "from natsort import natsorted\n",
    "import pandas as pd\n",
    "from tqdm import tqdm\n",
    "import open_clip\n",
    "from datetime import datetime"
   ]
  },
  {
   "cell_type": "code",
   "execution_count": 22,
   "metadata": {},
   "outputs": [],
   "source": [
    "# 0. Settings\n",
    "device = 'cuda:1'\n",
    "model_name = 'ViT-L-14'\n",
    "pretrained = 'openai'\n",
    "root = './'\n",
    "dataset_name = 'Scene'\n",
    "\n",
    "# 1. Load CLIP model\n",
    "model, _, preprocess = open_clip.create_model_and_transforms(model_name, pretrained=pretrained)\n",
    "tokenizer = open_clip.get_tokenizer(model_name)"
   ]
  },
  {
   "cell_type": "code",
   "execution_count": 23,
   "metadata": {},
   "outputs": [],
   "source": [
    "# 2. Load test dataset with data augmentation\n",
    "ds = ImageFolder(os.path.join(root, dataset_name), transform=preprocess)\n",
    "ds.samples = natsorted(ds.samples)\n",
    "dl = DataLoader(ds, shuffle=False, batch_size=32, num_workers=2)"
   ]
  },
  {
   "cell_type": "code",
   "execution_count": 24,
   "metadata": {},
   "outputs": [
    {
     "data": {
      "text/plain": [
       "Parameter containing:\n",
       "tensor(4.6052, requires_grad=True)"
      ]
     },
     "execution_count": 24,
     "metadata": {},
     "output_type": "execute_result"
    }
   ],
   "source": [
    "model.logit_scale"
   ]
  },
  {
   "cell_type": "code",
   "execution_count": 25,
   "metadata": {},
   "outputs": [
    {
     "name": "stderr",
     "output_type": "stream",
     "text": [
      "  0%|                                                   | 0/254 [00:00<?, ?it/s]/tmp/ipykernel_3217542/4224370164.py:26: UserWarning: Implicit dimension choice for softmax has been deprecated. Change the call to include dim=X as an argument.\n",
      "  zero_shot_probs = F.softmax((50 * image_features @ text_features.T).float())  # Ensure float32 operation\n",
      "  0%|                                                   | 0/254 [00:00<?, ?it/s]"
     ]
    },
    {
     "name": "stdout",
     "output_type": "stream",
     "text": [
      "[0.25929996371269226, 0.07908201962709427, 0.04070793837308884, 0.06454486399888992, 0.24358977377414703, 0.31277546286582947]\n",
      "[0.6517913937568665, 0.0370599590241909, 0.030723784118890762, 0.11150836199522018, 0.07428057491779327, 0.09463591128587723]\n",
      "[0.026973672211170197, 0.6638035774230957, 0.05755113065242767, 0.11625649034976959, 0.08844327181577682, 0.04697186127305031]\n",
      "[0.6621710658073425, 0.03482067957520485, 0.034014057368040085, 0.06063661351799965, 0.07487622648477554, 0.13348129391670227]\n",
      "[0.05400538071990013, 0.06167608126997948, 0.22737114131450653, 0.2829679548740387, 0.352159321308136, 0.02182014472782612]\n",
      "[0.16946831345558167, 0.3396713137626648, 0.03993900492787361, 0.07698444277048111, 0.1935388594865799, 0.18039806187152863]\n",
      "[0.7321286201477051, 0.021261408925056458, 0.008229086175560951, 0.028947606682777405, 0.0286103542894125, 0.18082301318645477]\n",
      "[0.06614239513874054, 0.06824197620153427, 0.192890465259552, 0.5367647409439087, 0.10164612531661987, 0.034314222633838654]\n",
      "[0.06726949661970139, 0.6584949493408203, 0.04516260325908661, 0.07160800695419312, 0.07504454255104065, 0.08242031186819077]\n",
      "[0.03236302360892296, 0.04973476007580757, 0.2884485125541687, 0.29760485887527466, 0.31679871678352356, 0.01505020447075367]\n",
      "[0.44989123940467834, 0.10939260572195053, 0.06953417509794235, 0.12990695238113403, 0.11828161776065826, 0.12299341708421707]\n",
      "[0.053426869213581085, 0.016167471185326576, 0.09376707673072815, 0.06101540848612785, 0.755025327205658, 0.020597895607352257]\n",
      "[0.07068517059087753, 0.062379445880651474, 0.09813664853572845, 0.2952798008918762, 0.42962953448295593, 0.043889421969652176]\n",
      "[0.15059714019298553, 0.030835630372166634, 0.01574929989874363, 0.034669432789087296, 0.03837556391954422, 0.7297728657722473]\n",
      "[0.06768330186605453, 0.08164164423942566, 0.13046298921108246, 0.6371639370918274, 0.05230160057544708, 0.030746523290872574]\n",
      "[0.026270901784300804, 0.014061800204217434, 0.6936027407646179, 0.15476369857788086, 0.10229255259037018, 0.00900832749903202]\n",
      "[0.7766755223274231, 0.020376812666654587, 0.019292378798127174, 0.05670345574617386, 0.041162293404340744, 0.08578958362340927]\n",
      "[0.14257661998271942, 0.05327698960900307, 0.024391980841755867, 0.057606156915426254, 0.08316420763731003, 0.6389840245246887]\n",
      "[0.1383105367422104, 0.03134724497795105, 0.23527413606643677, 0.33965787291526794, 0.18904808163642883, 0.06636211276054382]\n",
      "[0.5679625868797302, 0.08642206341028214, 0.042118750512599945, 0.1277235448360443, 0.06128242239356041, 0.11449063569307327]\n",
      "[0.033272549510002136, 0.01808997243642807, 0.5761080384254456, 0.076758973300457, 0.2617088854312897, 0.03406158462166786]\n",
      "[0.2951129674911499, 0.09071028232574463, 0.05856696143746376, 0.2109077423810959, 0.10941749066114426, 0.23528458178043365]\n",
      "[0.5228145718574524, 0.017070500180125237, 0.014947431161999702, 0.07186949253082275, 0.0659511536359787, 0.30734682083129883]\n",
      "[0.07142111659049988, 0.7269852161407471, 0.031941499561071396, 0.07086531072854996, 0.06709393113851547, 0.031692929565906525]\n",
      "[0.7740642428398132, 0.02669476345181465, 0.01820424757897854, 0.059224918484687805, 0.045765470713377, 0.07604630291461945]\n",
      "[0.17935732007026672, 0.3247741758823395, 0.050986845046281815, 0.09525595605373383, 0.14638720452785492, 0.20323850214481354]\n",
      "[0.13335466384887695, 0.10145088285207748, 0.13128720223903656, 0.45467129349708557, 0.10145088285207748, 0.07778508961200714]\n",
      "[0.05082842707633972, 0.7353383898735046, 0.013573824428021908, 0.08314976096153259, 0.0402085967361927, 0.07690095156431198]\n",
      "[0.060293443500995636, 0.06673876196146011, 0.23660945892333984, 0.2991023659706116, 0.2460349053144455, 0.09122105687856674]\n",
      "[0.04646450653672218, 0.03562557324767113, 0.46199944615364075, 0.3460215926170349, 0.07196563482284546, 0.03792322427034378]\n",
      "[0.05310438200831413, 0.046864453703165054, 0.062085311859846115, 0.1056106761097908, 0.7049993872642517, 0.027335792779922485]\n",
      "[0.14214611053466797, 0.03171708062291145, 0.11784325540065765, 0.1107034832239151, 0.5364537835121155, 0.06113627180457115]\n"
     ]
    },
    {
     "name": "stderr",
     "output_type": "stream",
     "text": [
      "\n"
     ]
    },
    {
     "ename": "ValueError",
     "evalue": "All arrays must be of the same length",
     "output_type": "error",
     "traceback": [
      "\u001b[0;31m---------------------------------------------------------------------------\u001b[0m",
      "\u001b[0;31mValueError\u001b[0m                                Traceback (most recent call last)",
      "Cell \u001b[0;32mIn[25], line 39\u001b[0m\n\u001b[1;32m     37\u001b[0m current_time \u001b[38;5;241m=\u001b[39m datetime\u001b[38;5;241m.\u001b[39mnow()\u001b[38;5;241m.\u001b[39mstrftime(\u001b[38;5;124m\"\u001b[39m\u001b[38;5;124m%\u001b[39m\u001b[38;5;124mY\u001b[39m\u001b[38;5;124m%\u001b[39m\u001b[38;5;124mm\u001b[39m\u001b[38;5;132;01m%d\u001b[39;00m\u001b[38;5;124m_\u001b[39m\u001b[38;5;124m%\u001b[39m\u001b[38;5;124mH\u001b[39m\u001b[38;5;124m%\u001b[39m\u001b[38;5;124mM\u001b[39m\u001b[38;5;124m%\u001b[39m\u001b[38;5;124mS\u001b[39m\u001b[38;5;124m\"\u001b[39m)\n\u001b[1;32m     38\u001b[0m file_name \u001b[38;5;241m=\u001b[39m \u001b[38;5;124mf\u001b[39m\u001b[38;5;124m'\u001b[39m\u001b[38;5;124m1-1_soft_submission_\u001b[39m\u001b[38;5;132;01m{\u001b[39;00mcurrent_time\u001b[38;5;132;01m}\u001b[39;00m\u001b[38;5;124m.csv\u001b[39m\u001b[38;5;124m'\u001b[39m\n\u001b[0;32m---> 39\u001b[0m \u001b[43mpd\u001b[49m\u001b[38;5;241;43m.\u001b[39;49m\u001b[43mDataFrame\u001b[49m\u001b[43m(\u001b[49m\u001b[43msubmission\u001b[49m\u001b[43m)\u001b[49m\u001b[38;5;241m.\u001b[39mto_csv(os\u001b[38;5;241m.\u001b[39mpath\u001b[38;5;241m.\u001b[39mjoin(root, file_name), index\u001b[38;5;241m=\u001b[39m\u001b[38;5;28;01mFalse\u001b[39;00m)\n",
      "File \u001b[0;32m~/.local/lib/python3.10/site-packages/pandas/core/frame.py:778\u001b[0m, in \u001b[0;36mDataFrame.__init__\u001b[0;34m(self, data, index, columns, dtype, copy)\u001b[0m\n\u001b[1;32m    772\u001b[0m     mgr \u001b[38;5;241m=\u001b[39m \u001b[38;5;28mself\u001b[39m\u001b[38;5;241m.\u001b[39m_init_mgr(\n\u001b[1;32m    773\u001b[0m         data, axes\u001b[38;5;241m=\u001b[39m{\u001b[38;5;124m\"\u001b[39m\u001b[38;5;124mindex\u001b[39m\u001b[38;5;124m\"\u001b[39m: index, \u001b[38;5;124m\"\u001b[39m\u001b[38;5;124mcolumns\u001b[39m\u001b[38;5;124m\"\u001b[39m: columns}, dtype\u001b[38;5;241m=\u001b[39mdtype, copy\u001b[38;5;241m=\u001b[39mcopy\n\u001b[1;32m    774\u001b[0m     )\n\u001b[1;32m    776\u001b[0m \u001b[38;5;28;01melif\u001b[39;00m \u001b[38;5;28misinstance\u001b[39m(data, \u001b[38;5;28mdict\u001b[39m):\n\u001b[1;32m    777\u001b[0m     \u001b[38;5;66;03m# GH#38939 de facto copy defaults to False only in non-dict cases\u001b[39;00m\n\u001b[0;32m--> 778\u001b[0m     mgr \u001b[38;5;241m=\u001b[39m \u001b[43mdict_to_mgr\u001b[49m\u001b[43m(\u001b[49m\u001b[43mdata\u001b[49m\u001b[43m,\u001b[49m\u001b[43m \u001b[49m\u001b[43mindex\u001b[49m\u001b[43m,\u001b[49m\u001b[43m \u001b[49m\u001b[43mcolumns\u001b[49m\u001b[43m,\u001b[49m\u001b[43m \u001b[49m\u001b[43mdtype\u001b[49m\u001b[38;5;241;43m=\u001b[39;49m\u001b[43mdtype\u001b[49m\u001b[43m,\u001b[49m\u001b[43m \u001b[49m\u001b[43mcopy\u001b[49m\u001b[38;5;241;43m=\u001b[39;49m\u001b[43mcopy\u001b[49m\u001b[43m,\u001b[49m\u001b[43m \u001b[49m\u001b[43mtyp\u001b[49m\u001b[38;5;241;43m=\u001b[39;49m\u001b[43mmanager\u001b[49m\u001b[43m)\u001b[49m\n\u001b[1;32m    779\u001b[0m \u001b[38;5;28;01melif\u001b[39;00m \u001b[38;5;28misinstance\u001b[39m(data, ma\u001b[38;5;241m.\u001b[39mMaskedArray):\n\u001b[1;32m    780\u001b[0m     \u001b[38;5;28;01mfrom\u001b[39;00m \u001b[38;5;21;01mnumpy\u001b[39;00m\u001b[38;5;21;01m.\u001b[39;00m\u001b[38;5;21;01mma\u001b[39;00m \u001b[38;5;28;01mimport\u001b[39;00m mrecords\n",
      "File \u001b[0;32m~/.local/lib/python3.10/site-packages/pandas/core/internals/construction.py:503\u001b[0m, in \u001b[0;36mdict_to_mgr\u001b[0;34m(data, index, columns, dtype, typ, copy)\u001b[0m\n\u001b[1;32m    499\u001b[0m     \u001b[38;5;28;01melse\u001b[39;00m:\n\u001b[1;32m    500\u001b[0m         \u001b[38;5;66;03m# dtype check to exclude e.g. range objects, scalars\u001b[39;00m\n\u001b[1;32m    501\u001b[0m         arrays \u001b[38;5;241m=\u001b[39m [x\u001b[38;5;241m.\u001b[39mcopy() \u001b[38;5;28;01mif\u001b[39;00m \u001b[38;5;28mhasattr\u001b[39m(x, \u001b[38;5;124m\"\u001b[39m\u001b[38;5;124mdtype\u001b[39m\u001b[38;5;124m\"\u001b[39m) \u001b[38;5;28;01melse\u001b[39;00m x \u001b[38;5;28;01mfor\u001b[39;00m x \u001b[38;5;129;01min\u001b[39;00m arrays]\n\u001b[0;32m--> 503\u001b[0m \u001b[38;5;28;01mreturn\u001b[39;00m \u001b[43marrays_to_mgr\u001b[49m\u001b[43m(\u001b[49m\u001b[43marrays\u001b[49m\u001b[43m,\u001b[49m\u001b[43m \u001b[49m\u001b[43mcolumns\u001b[49m\u001b[43m,\u001b[49m\u001b[43m \u001b[49m\u001b[43mindex\u001b[49m\u001b[43m,\u001b[49m\u001b[43m \u001b[49m\u001b[43mdtype\u001b[49m\u001b[38;5;241;43m=\u001b[39;49m\u001b[43mdtype\u001b[49m\u001b[43m,\u001b[49m\u001b[43m \u001b[49m\u001b[43mtyp\u001b[49m\u001b[38;5;241;43m=\u001b[39;49m\u001b[43mtyp\u001b[49m\u001b[43m,\u001b[49m\u001b[43m \u001b[49m\u001b[43mconsolidate\u001b[49m\u001b[38;5;241;43m=\u001b[39;49m\u001b[43mcopy\u001b[49m\u001b[43m)\u001b[49m\n",
      "File \u001b[0;32m~/.local/lib/python3.10/site-packages/pandas/core/internals/construction.py:114\u001b[0m, in \u001b[0;36marrays_to_mgr\u001b[0;34m(arrays, columns, index, dtype, verify_integrity, typ, consolidate)\u001b[0m\n\u001b[1;32m    111\u001b[0m \u001b[38;5;28;01mif\u001b[39;00m verify_integrity:\n\u001b[1;32m    112\u001b[0m     \u001b[38;5;66;03m# figure out the index, if necessary\u001b[39;00m\n\u001b[1;32m    113\u001b[0m     \u001b[38;5;28;01mif\u001b[39;00m index \u001b[38;5;129;01mis\u001b[39;00m \u001b[38;5;28;01mNone\u001b[39;00m:\n\u001b[0;32m--> 114\u001b[0m         index \u001b[38;5;241m=\u001b[39m \u001b[43m_extract_index\u001b[49m\u001b[43m(\u001b[49m\u001b[43marrays\u001b[49m\u001b[43m)\u001b[49m\n\u001b[1;32m    115\u001b[0m     \u001b[38;5;28;01melse\u001b[39;00m:\n\u001b[1;32m    116\u001b[0m         index \u001b[38;5;241m=\u001b[39m ensure_index(index)\n",
      "File \u001b[0;32m~/.local/lib/python3.10/site-packages/pandas/core/internals/construction.py:677\u001b[0m, in \u001b[0;36m_extract_index\u001b[0;34m(data)\u001b[0m\n\u001b[1;32m    675\u001b[0m lengths \u001b[38;5;241m=\u001b[39m \u001b[38;5;28mlist\u001b[39m(\u001b[38;5;28mset\u001b[39m(raw_lengths))\n\u001b[1;32m    676\u001b[0m \u001b[38;5;28;01mif\u001b[39;00m \u001b[38;5;28mlen\u001b[39m(lengths) \u001b[38;5;241m>\u001b[39m \u001b[38;5;241m1\u001b[39m:\n\u001b[0;32m--> 677\u001b[0m     \u001b[38;5;28;01mraise\u001b[39;00m \u001b[38;5;167;01mValueError\u001b[39;00m(\u001b[38;5;124m\"\u001b[39m\u001b[38;5;124mAll arrays must be of the same length\u001b[39m\u001b[38;5;124m\"\u001b[39m)\n\u001b[1;32m    679\u001b[0m \u001b[38;5;28;01mif\u001b[39;00m have_dicts:\n\u001b[1;32m    680\u001b[0m     \u001b[38;5;28;01mraise\u001b[39;00m \u001b[38;5;167;01mValueError\u001b[39;00m(\n\u001b[1;32m    681\u001b[0m         \u001b[38;5;124m\"\u001b[39m\u001b[38;5;124mMixing dicts with non-Series may lead to ambiguous ordering.\u001b[39m\u001b[38;5;124m\"\u001b[39m\n\u001b[1;32m    682\u001b[0m     )\n",
      "\u001b[0;31mValueError\u001b[0m: All arrays must be of the same length"
     ]
    }
   ],
   "source": [
    "# 3. Load class name list\n",
    "with open(os.path.join(root, 'classes.json'), 'r') as j:\n",
    "    class_names = json.loads(j.read())\n",
    "\n",
    "# Enhanced text prompts\n",
    "prompts = [f\"A photo of a {class_name}\" for class_name in class_names]\n",
    "\n",
    "# 4. Perform zero-shot classification\n",
    "zero_shot_top1 = 0\n",
    "submission = dict({'id_idx': list(range(8100)), 'label': []})\n",
    "\n",
    "with torch.no_grad(), torch.cuda.amp.autocast():\n",
    "    # Text to CUDA device (GPU 1)\n",
    "    text = tokenizer(prompts)\n",
    "    text_features = model.encode_text(text).to('cuda:1')\n",
    "    text_features /= text_features.norm(dim=-1, keepdim=True)\n",
    "    \n",
    "    model = model.to(device)  # Move model to the specified GPU\n",
    "\n",
    "    for x, y in tqdm(dl):\n",
    "        x = x.cuda(device).float()  # Move images to GPU and ensure float32\n",
    "        image_features = model.encode_image(x).to('cuda:1').float()  # Convert to float32 explicitly\n",
    "        image_features /= image_features.norm(dim=-1, keepdim=True)\n",
    "        \n",
    "        # 32-bit computations with text and image features\n",
    "        zero_shot_probs = F.softmax((50 * image_features @ text_features.T).float())  # Ensure float32 operation\n",
    "\n",
    "        rst = zero_shot_probs.tolist()  # Convert to list for submission\n",
    "\n",
    "        for i in rst:\n",
    "            print(i)\n",
    "        break\n",
    "\n",
    "        submission['label'] += rst\n",
    "\n",
    "# 5. Save prediction as submission.csv file\n",
    "current_time = datetime.now().strftime(\"%Y%m%d_%H%M%S\")\n",
    "file_name = f'1-1_soft_submission_{current_time}.csv'\n",
    "pd.DataFrame(submission).to_csv(os.path.join(root, file_name), index=False)"
   ]
  },
  {
   "cell_type": "code",
   "execution_count": null,
   "metadata": {},
   "outputs": [],
   "source": []
  }
 ],
 "metadata": {
  "accelerator": "GPU",
  "colab": {
   "collapsed_sections": [
    "w2zS1z71y653"
   ],
   "gpuType": "T4",
   "provenance": []
  },
  "kernelspec": {
   "display_name": "Python 3 (ipykernel)",
   "language": "python",
   "name": "python3"
  },
  "language_info": {
   "codemirror_mode": {
    "name": "ipython",
    "version": 3
   },
   "file_extension": ".py",
   "mimetype": "text/x-python",
   "name": "python",
   "nbconvert_exporter": "python",
   "pygments_lexer": "ipython3",
   "version": "3.10.14"
  }
 },
 "nbformat": 4,
 "nbformat_minor": 4
}
