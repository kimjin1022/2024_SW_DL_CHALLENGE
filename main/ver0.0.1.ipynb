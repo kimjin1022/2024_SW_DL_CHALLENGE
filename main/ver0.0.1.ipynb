{
 "cells": [
  {
   "cell_type": "code",
   "execution_count": null,
   "id": "22063eca-b131-428e-abeb-157ab50863fa",
   "metadata": {},
   "outputs": [],
   "source": [
    "from transformers import pipeline\n",
    "from PIL import Image\n",
    "import requests\n",
    "\n",
    "# load pipe\n",
    "image_classifier = pipeline(task=\"zero-shot-image-classification\", model=\"google/siglip-so400m-patch14-224\", device='cuda')"
   ]
  },
  {
   "cell_type": "code",
   "execution_count": 10,
   "id": "b1edb2ce-c2f3-4933-b191-bb63c61be0bd",
   "metadata": {},
   "outputs": [
    {
     "name": "stdout",
     "output_type": "stream",
     "text": [
      "Street\n",
      "Buildings\n"
     ]
    }
   ],
   "source": [
    "# load image\n",
    "image0 = Image.open(\"./Scene/0/0.jpg\")\n",
    "image1 = Image.open(\"./Scene/0/1.jpg\")\n",
    "images = [image0, image1]\n",
    "\n",
    "# inference\n",
    "outputs = image_classifier(images, candidate_labels=['Buildings', 'Forests', 'Glacier', 'Mountains', 'Sea', 'Street'])\n",
    "for output in outputs:\n",
    "    print(output[0]['label'])"
   ]
  },
  {
   "cell_type": "code",
   "execution_count": null,
   "id": "b7891259-ba11-49bb-885e-614b67f0b083",
   "metadata": {},
   "outputs": [],
   "source": [
    "from datetime import datetime\n",
    "import pandas as pd\n",
    "import os\n",
    "\n",
    "submission = dict({'id_idx': [], 'label': []})\n",
    "start_time = datetime.now().strftime(\"%Y%m%d_%H%M%S\")\n",
    "file_name = f'submission_{start_time}.csv'\n",
    "\n",
    "for idx in range(810):\n",
    "    image_path = f\"./Scene/0/{idx}.jpg\"\n",
    "    image = Image.open(image_path)\n",
    "    class_names=['building', 'forest', 'glacier', 'mountain', 'sea', 'street']\n",
    "    prompts = [f\"A photo of a {class_name}\" for class_name in class_names]\n",
    "    \n",
    "    tokenizer = CLIPTokenizer.from_pretrained(model_name_or_path)\n",
    "    input_ids = tokenizer(prompts,  return_tensors=\"pt\").input_ids.to('cpu')\n",
    "    input_pixels = processor(images=image, return_tensors=\"pt\").pixel_values.to('cpu')\n",
    "\n",
    "    with torch.no_grad(), torch.amp.autocast('cuda'):\n",
    "        image_features = model.encode_image(input_pixels)\n",
    "        text_features = model.encode_text(input_ids)\n",
    "        image_features /= image_features.norm(dim=-1, keepdim=True)\n",
    "        text_features /= text_features.norm(dim=-1, keepdim=True)\n",
    "    \n",
    "    label_probs = (100.0 * image_features @ text_features.T).softmax(dim=-1)\n",
    "    predict = int(label_probs.argmax())\n",
    "    \n",
    "    submission['label'] += [predict]\n",
    "\n",
    "    if (idx+1) % 10 == 0:\n",
    "        submission['id_idx'] = list(range(len(submission['label'])))\n",
    "        pd.DataFrame(submission).to_csv(os.path.join(\"/home/jinjinjara1022/ajou/submissions/\", file_name), index=False)\n",
    "        print()\n",
    "\n",
    "submission['id_idx'] = list(range(len(submission['label'])))\n",
    "pd.DataFrame(submission).to_csv(os.path.join(\"/home/jinjinjara1022/ajou/submissions/\", file_name), index=False)"
   ]
  }
 ],
 "metadata": {
  "kernelspec": {
   "display_name": "Python 3 (ipykernel)",
   "language": "python",
   "name": "python3"
  },
  "language_info": {
   "codemirror_mode": {
    "name": "ipython",
    "version": 3
   },
   "file_extension": ".py",
   "mimetype": "text/x-python",
   "name": "python",
   "nbconvert_exporter": "python",
   "pygments_lexer": "ipython3",
   "version": "3.10.14"
  }
 },
 "nbformat": 4,
 "nbformat_minor": 5
}
