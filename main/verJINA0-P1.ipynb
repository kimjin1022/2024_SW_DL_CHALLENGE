{
 "cells": [
  {
   "cell_type": "code",
   "execution_count": 3,
   "id": "e32afbf9-808e-4b48-a9d0-a8479716cba3",
   "metadata": {
    "scrolled": true
   },
   "outputs": [
    {
     "name": "stderr",
     "output_type": "stream",
     "text": [
      "huggingface/tokenizers: The current process just got forked, after parallelism has already been used. Disabling parallelism to avoid deadlocks...\n",
      "To disable this warning, you can either:\n",
      "\t- Avoid using `tokenizers` before the fork if possible\n",
      "\t- Explicitly set the environment variable TOKENIZERS_PARALLELISM=(true | false)\n"
     ]
    },
    {
     "name": "stdout",
     "output_type": "stream",
     "text": [
      "Defaulting to user installation because normal site-packages is not writeable\n",
      "Requirement already satisfied: transformers in /home/jinjinjara1022/.local/lib/python3.10/site-packages (4.44.1)\n",
      "Collecting einops\n",
      "  Using cached einops-0.8.0-py3-none-any.whl (43 kB)\n",
      "Collecting timm\n",
      "  Downloading timm-1.0.9-py3-none-any.whl (2.3 MB)\n",
      "\u001b[2K     \u001b[90m━━━━━━━━━━━━━━━━━━━━━━━━━━━━━━━━━━━━━━━━\u001b[0m \u001b[32m2.3/2.3 MB\u001b[0m \u001b[31m11.6 MB/s\u001b[0m eta \u001b[36m0:00:00\u001b[0m00:01\u001b[0m00:01\u001b[0m\n",
      "\u001b[?25hRequirement already satisfied: pillow in /home/jinjinjara1022/.local/lib/python3.10/site-packages (10.3.0)\n",
      "Requirement already satisfied: safetensors>=0.4.1 in /home/jinjinjara1022/.local/lib/python3.10/site-packages (from transformers) (0.4.3)\n",
      "Requirement already satisfied: huggingface-hub<1.0,>=0.23.2 in /home/jinjinjara1022/.local/lib/python3.10/site-packages (from transformers) (0.24.5)\n",
      "Requirement already satisfied: packaging>=20.0 in /home/jinjinjara1022/.local/lib/python3.10/site-packages (from transformers) (24.0)\n",
      "Requirement already satisfied: tqdm>=4.27 in /home/jinjinjara1022/.local/lib/python3.10/site-packages (from transformers) (4.66.4)\n",
      "Requirement already satisfied: requests in /home/jinjinjara1022/.local/lib/python3.10/site-packages (from transformers) (2.31.0)\n",
      "Requirement already satisfied: filelock in /home/jinjinjara1022/.local/lib/python3.10/site-packages (from transformers) (3.14.0)\n",
      "Requirement already satisfied: numpy>=1.17 in /home/jinjinjara1022/.local/lib/python3.10/site-packages (from transformers) (1.26.4)\n",
      "Requirement already satisfied: pyyaml>=5.1 in /usr/lib/python3/dist-packages (from transformers) (5.4.1)\n",
      "Requirement already satisfied: tokenizers<0.20,>=0.19 in /home/jinjinjara1022/.local/lib/python3.10/site-packages (from transformers) (0.19.1)\n",
      "Requirement already satisfied: regex!=2019.12.17 in /home/jinjinjara1022/.local/lib/python3.10/site-packages (from transformers) (2024.7.24)\n",
      "Requirement already satisfied: torch in /home/jinjinjara1022/.local/lib/python3.10/site-packages (from timm) (2.0.1)\n",
      "Requirement already satisfied: torchvision in /home/jinjinjara1022/.local/lib/python3.10/site-packages (from timm) (0.15.2+cu117)\n",
      "Requirement already satisfied: fsspec>=2023.5.0 in /home/jinjinjara1022/.local/lib/python3.10/site-packages (from huggingface-hub<1.0,>=0.23.2->transformers) (2024.3.1)\n",
      "Requirement already satisfied: typing-extensions>=3.7.4.3 in /home/jinjinjara1022/.local/lib/python3.10/site-packages (from huggingface-hub<1.0,>=0.23.2->transformers) (4.11.0)\n",
      "Requirement already satisfied: idna<4,>=2.5 in /usr/lib/python3/dist-packages (from requests->transformers) (3.3)\n",
      "Requirement already satisfied: urllib3<3,>=1.21.1 in /usr/lib/python3/dist-packages (from requests->transformers) (1.26.5)\n",
      "Requirement already satisfied: certifi>=2017.4.17 in /usr/lib/python3/dist-packages (from requests->transformers) (2020.6.20)\n",
      "Requirement already satisfied: charset-normalizer<4,>=2 in /home/jinjinjara1022/.local/lib/python3.10/site-packages (from requests->transformers) (3.3.2)\n",
      "Requirement already satisfied: nvidia-cudnn-cu11==8.5.0.96 in /home/jinjinjara1022/.local/lib/python3.10/site-packages (from torch->timm) (8.5.0.96)\n",
      "Requirement already satisfied: nvidia-nccl-cu11==2.14.3 in /home/jinjinjara1022/.local/lib/python3.10/site-packages (from torch->timm) (2.14.3)\n",
      "Requirement already satisfied: nvidia-cusparse-cu11==11.7.4.91 in /home/jinjinjara1022/.local/lib/python3.10/site-packages (from torch->timm) (11.7.4.91)\n",
      "Requirement already satisfied: nvidia-nvtx-cu11==11.7.91 in /home/jinjinjara1022/.local/lib/python3.10/site-packages (from torch->timm) (11.7.91)\n",
      "Requirement already satisfied: sympy in /home/jinjinjara1022/.local/lib/python3.10/site-packages (from torch->timm) (1.12)\n",
      "Requirement already satisfied: nvidia-cufft-cu11==10.9.0.58 in /home/jinjinjara1022/.local/lib/python3.10/site-packages (from torch->timm) (10.9.0.58)\n",
      "Requirement already satisfied: nvidia-cusolver-cu11==11.4.0.1 in /home/jinjinjara1022/.local/lib/python3.10/site-packages (from torch->timm) (11.4.0.1)\n",
      "Requirement already satisfied: triton==2.0.0 in /home/jinjinjara1022/.local/lib/python3.10/site-packages (from torch->timm) (2.0.0)\n",
      "Requirement already satisfied: jinja2 in /home/jinjinjara1022/.local/lib/python3.10/site-packages (from torch->timm) (3.1.4)\n",
      "Requirement already satisfied: nvidia-cuda-runtime-cu11==11.7.99 in /home/jinjinjara1022/.local/lib/python3.10/site-packages (from torch->timm) (11.7.99)\n",
      "Requirement already satisfied: nvidia-cuda-nvrtc-cu11==11.7.99 in /home/jinjinjara1022/.local/lib/python3.10/site-packages (from torch->timm) (11.7.99)\n",
      "Requirement already satisfied: nvidia-curand-cu11==10.2.10.91 in /home/jinjinjara1022/.local/lib/python3.10/site-packages (from torch->timm) (10.2.10.91)\n",
      "Requirement already satisfied: nvidia-cublas-cu11==11.10.3.66 in /home/jinjinjara1022/.local/lib/python3.10/site-packages (from torch->timm) (11.10.3.66)\n",
      "Requirement already satisfied: nvidia-cuda-cupti-cu11==11.7.101 in /home/jinjinjara1022/.local/lib/python3.10/site-packages (from torch->timm) (11.7.101)\n",
      "Requirement already satisfied: networkx in /home/jinjinjara1022/.local/lib/python3.10/site-packages (from torch->timm) (3.3)\n",
      "Requirement already satisfied: wheel in /usr/lib/python3/dist-packages (from nvidia-cublas-cu11==11.10.3.66->torch->timm) (0.37.1)\n",
      "Requirement already satisfied: setuptools in /usr/lib/python3/dist-packages (from nvidia-cublas-cu11==11.10.3.66->torch->timm) (59.6.0)\n",
      "Requirement already satisfied: cmake in /home/jinjinjara1022/.local/lib/python3.10/site-packages (from triton==2.0.0->torch->timm) (3.30.2)\n",
      "Requirement already satisfied: lit in /home/jinjinjara1022/.local/lib/python3.10/site-packages (from triton==2.0.0->torch->timm) (18.1.8)\n",
      "Requirement already satisfied: MarkupSafe>=2.0 in /home/jinjinjara1022/.local/lib/python3.10/site-packages (from jinja2->torch->timm) (2.1.5)\n",
      "Requirement already satisfied: mpmath>=0.19 in /home/jinjinjara1022/.local/lib/python3.10/site-packages (from sympy->torch->timm) (1.3.0)\n",
      "Installing collected packages: einops, timm\n",
      "Successfully installed einops-0.8.0 timm-1.0.9\n"
     ]
    },
    {
     "data": {
      "application/vnd.jupyter.widget-view+json": {
       "model_id": "78edcfd997a64eb2b84c5ada3030bcfe",
       "version_major": 2,
       "version_minor": 0
      },
      "text/plain": [
       "config.json:   0%|          | 0.00/1.93k [00:00<?, ?B/s]"
      ]
     },
     "metadata": {},
     "output_type": "display_data"
    },
    {
     "data": {
      "application/vnd.jupyter.widget-view+json": {
       "model_id": "94b9e43d2e1a46cea54fbe820efd3b4d",
       "version_major": 2,
       "version_minor": 0
      },
      "text/plain": [
       "configuration_clip.py:   0%|          | 0.00/11.5k [00:00<?, ?B/s]"
      ]
     },
     "metadata": {},
     "output_type": "display_data"
    },
    {
     "name": "stderr",
     "output_type": "stream",
     "text": [
      "A new version of the following files was downloaded from https://huggingface.co/jinaai/jina-clip-implementation:\n",
      "- configuration_clip.py\n",
      ". Make sure to double-check they do not contain any added malicious code. To avoid downloading new versions of the code file, you can pin a revision.\n"
     ]
    },
    {
     "data": {
      "application/vnd.jupyter.widget-view+json": {
       "model_id": "0368d8f9ff21422b95c86f05e46315d7",
       "version_major": 2,
       "version_minor": 0
      },
      "text/plain": [
       "modeling_clip.py:   0%|          | 0.00/20.8k [00:00<?, ?B/s]"
      ]
     },
     "metadata": {},
     "output_type": "display_data"
    },
    {
     "data": {
      "application/vnd.jupyter.widget-view+json": {
       "model_id": "086cfc1b3a84410f9c1f0a10d177f5a6",
       "version_major": 2,
       "version_minor": 0
      },
      "text/plain": [
       "eva_model.py:   0%|          | 0.00/26.3k [00:00<?, ?B/s]"
      ]
     },
     "metadata": {},
     "output_type": "display_data"
    },
    {
     "data": {
      "application/vnd.jupyter.widget-view+json": {
       "model_id": "68a780a7ef9a417f8356b17a287642da",
       "version_major": 2,
       "version_minor": 0
      },
      "text/plain": [
       "rope_embeddings.py:   0%|          | 0.00/5.79k [00:00<?, ?B/s]"
      ]
     },
     "metadata": {},
     "output_type": "display_data"
    },
    {
     "name": "stderr",
     "output_type": "stream",
     "text": [
      "A new version of the following files was downloaded from https://huggingface.co/jinaai/jina-clip-implementation:\n",
      "- rope_embeddings.py\n",
      ". Make sure to double-check they do not contain any added malicious code. To avoid downloading new versions of the code file, you can pin a revision.\n",
      "A new version of the following files was downloaded from https://huggingface.co/jinaai/jina-clip-implementation:\n",
      "- eva_model.py\n",
      "- rope_embeddings.py\n",
      ". Make sure to double-check they do not contain any added malicious code. To avoid downloading new versions of the code file, you can pin a revision.\n"
     ]
    },
    {
     "data": {
      "application/vnd.jupyter.widget-view+json": {
       "model_id": "7ec9d2e482b14b9bbbe3ba733ab69c5d",
       "version_major": 2,
       "version_minor": 0
      },
      "text/plain": [
       "transform.py:   0%|          | 0.00/14.8k [00:00<?, ?B/s]"
      ]
     },
     "metadata": {},
     "output_type": "display_data"
    },
    {
     "name": "stderr",
     "output_type": "stream",
     "text": [
      "A new version of the following files was downloaded from https://huggingface.co/jinaai/jina-clip-implementation:\n",
      "- transform.py\n",
      ". Make sure to double-check they do not contain any added malicious code. To avoid downloading new versions of the code file, you can pin a revision.\n"
     ]
    },
    {
     "data": {
      "application/vnd.jupyter.widget-view+json": {
       "model_id": "b018d555a7454c00b82a1fe87a2ffef1",
       "version_major": 2,
       "version_minor": 0
      },
      "text/plain": [
       "hf_model.py:   0%|          | 0.00/9.62k [00:00<?, ?B/s]"
      ]
     },
     "metadata": {},
     "output_type": "display_data"
    },
    {
     "name": "stderr",
     "output_type": "stream",
     "text": [
      "A new version of the following files was downloaded from https://huggingface.co/jinaai/jina-clip-implementation:\n",
      "- hf_model.py\n",
      ". Make sure to double-check they do not contain any added malicious code. To avoid downloading new versions of the code file, you can pin a revision.\n",
      "A new version of the following files was downloaded from https://huggingface.co/jinaai/jina-clip-implementation:\n",
      "- modeling_clip.py\n",
      "- eva_model.py\n",
      "- transform.py\n",
      "- hf_model.py\n",
      ". Make sure to double-check they do not contain any added malicious code. To avoid downloading new versions of the code file, you can pin a revision.\n"
     ]
    },
    {
     "data": {
      "application/vnd.jupyter.widget-view+json": {
       "model_id": "5bc5a6cd6cad4f99b50e944f51a1aed7",
       "version_major": 2,
       "version_minor": 0
      },
      "text/plain": [
       "model.safetensors:   0%|          | 0.00/891M [00:00<?, ?B/s]"
      ]
     },
     "metadata": {},
     "output_type": "display_data"
    },
    {
     "data": {
      "application/vnd.jupyter.widget-view+json": {
       "model_id": "721a38684daf452187460dae82f15064",
       "version_major": 2,
       "version_minor": 0
      },
      "text/plain": [
       "config.json:   0%|          | 0.00/1.24k [00:00<?, ?B/s]"
      ]
     },
     "metadata": {},
     "output_type": "display_data"
    },
    {
     "data": {
      "application/vnd.jupyter.widget-view+json": {
       "model_id": "85806dbeebb14a1dac15c141d724252a",
       "version_major": 2,
       "version_minor": 0
      },
      "text/plain": [
       "configuration_bert.py:   0%|          | 0.00/5.77k [00:00<?, ?B/s]"
      ]
     },
     "metadata": {},
     "output_type": "display_data"
    },
    {
     "name": "stderr",
     "output_type": "stream",
     "text": [
      "A new version of the following files was downloaded from https://huggingface.co/jinaai/jina-bert-flash-implementation:\n",
      "- configuration_bert.py\n",
      ". Make sure to double-check they do not contain any added malicious code. To avoid downloading new versions of the code file, you can pin a revision.\n"
     ]
    },
    {
     "data": {
      "application/vnd.jupyter.widget-view+json": {
       "model_id": "cd9e36a02c7f4a49abb51a8a165982ee",
       "version_major": 2,
       "version_minor": 0
      },
      "text/plain": [
       "modeling_bert.py:   0%|          | 0.00/33.4k [00:00<?, ?B/s]"
      ]
     },
     "metadata": {},
     "output_type": "display_data"
    },
    {
     "data": {
      "application/vnd.jupyter.widget-view+json": {
       "model_id": "b85b75ec8e684167950f8dec42d8125d",
       "version_major": 2,
       "version_minor": 0
      },
      "text/plain": [
       "mha.py:   0%|          | 0.00/35.4k [00:00<?, ?B/s]"
      ]
     },
     "metadata": {},
     "output_type": "display_data"
    },
    {
     "name": "stderr",
     "output_type": "stream",
     "text": [
      "A new version of the following files was downloaded from https://huggingface.co/jinaai/jina-bert-flash-implementation:\n",
      "- mha.py\n",
      ". Make sure to double-check they do not contain any added malicious code. To avoid downloading new versions of the code file, you can pin a revision.\n"
     ]
    },
    {
     "data": {
      "application/vnd.jupyter.widget-view+json": {
       "model_id": "d962a2f4004a471bb0f6e3749a7b82eb",
       "version_major": 2,
       "version_minor": 0
      },
      "text/plain": [
       "bert_padding.py:   0%|          | 0.00/9.78k [00:00<?, ?B/s]"
      ]
     },
     "metadata": {},
     "output_type": "display_data"
    },
    {
     "name": "stderr",
     "output_type": "stream",
     "text": [
      "A new version of the following files was downloaded from https://huggingface.co/jinaai/jina-bert-flash-implementation:\n",
      "- bert_padding.py\n",
      ". Make sure to double-check they do not contain any added malicious code. To avoid downloading new versions of the code file, you can pin a revision.\n"
     ]
    },
    {
     "data": {
      "application/vnd.jupyter.widget-view+json": {
       "model_id": "c47f3bb7260b4c2187799fffc0d7d711",
       "version_major": 2,
       "version_minor": 0
      },
      "text/plain": [
       "mlp.py:   0%|          | 0.00/8.05k [00:00<?, ?B/s]"
      ]
     },
     "metadata": {},
     "output_type": "display_data"
    },
    {
     "name": "stderr",
     "output_type": "stream",
     "text": [
      "A new version of the following files was downloaded from https://huggingface.co/jinaai/jina-bert-flash-implementation:\n",
      "- mlp.py\n",
      ". Make sure to double-check they do not contain any added malicious code. To avoid downloading new versions of the code file, you can pin a revision.\n"
     ]
    },
    {
     "data": {
      "application/vnd.jupyter.widget-view+json": {
       "model_id": "315cdaf58a6c4fe099139319ab3121c1",
       "version_major": 2,
       "version_minor": 0
      },
      "text/plain": [
       "block.py:   0%|          | 0.00/17.4k [00:00<?, ?B/s]"
      ]
     },
     "metadata": {},
     "output_type": "display_data"
    },
    {
     "name": "stderr",
     "output_type": "stream",
     "text": [
      "A new version of the following files was downloaded from https://huggingface.co/jinaai/jina-bert-flash-implementation:\n",
      "- block.py\n",
      ". Make sure to double-check they do not contain any added malicious code. To avoid downloading new versions of the code file, you can pin a revision.\n"
     ]
    },
    {
     "data": {
      "application/vnd.jupyter.widget-view+json": {
       "model_id": "9218da4004714e1294ef169282b2ab86",
       "version_major": 2,
       "version_minor": 0
      },
      "text/plain": [
       "embedding.py:   0%|          | 0.00/2.26k [00:00<?, ?B/s]"
      ]
     },
     "metadata": {},
     "output_type": "display_data"
    },
    {
     "name": "stderr",
     "output_type": "stream",
     "text": [
      "A new version of the following files was downloaded from https://huggingface.co/jinaai/jina-bert-flash-implementation:\n",
      "- embedding.py\n",
      ". Make sure to double-check they do not contain any added malicious code. To avoid downloading new versions of the code file, you can pin a revision.\n",
      "A new version of the following files was downloaded from https://huggingface.co/jinaai/jina-bert-flash-implementation:\n",
      "- modeling_bert.py\n",
      "- mha.py\n",
      "- bert_padding.py\n",
      "- mlp.py\n",
      "- block.py\n",
      "- embedding.py\n",
      ". Make sure to double-check they do not contain any added malicious code. To avoid downloading new versions of the code file, you can pin a revision.\n"
     ]
    },
    {
     "data": {
      "application/vnd.jupyter.widget-view+json": {
       "model_id": "decdf60d55834a95a702409f89ed6a93",
       "version_major": 2,
       "version_minor": 0
      },
      "text/plain": [
       "tokenizer_config.json:   0%|          | 0.00/1.24k [00:00<?, ?B/s]"
      ]
     },
     "metadata": {},
     "output_type": "display_data"
    },
    {
     "data": {
      "application/vnd.jupyter.widget-view+json": {
       "model_id": "f9082ac604594a8ba2cdc08523a4058c",
       "version_major": 2,
       "version_minor": 0
      },
      "text/plain": [
       "vocab.txt:   0%|          | 0.00/232k [00:00<?, ?B/s]"
      ]
     },
     "metadata": {},
     "output_type": "display_data"
    },
    {
     "data": {
      "application/vnd.jupyter.widget-view+json": {
       "model_id": "ad52bffe0a5d4d2a91e6263c6c43f118",
       "version_major": 2,
       "version_minor": 0
      },
      "text/plain": [
       "tokenizer.json:   0%|          | 0.00/712k [00:00<?, ?B/s]"
      ]
     },
     "metadata": {},
     "output_type": "display_data"
    },
    {
     "data": {
      "application/vnd.jupyter.widget-view+json": {
       "model_id": "f3d602899c3647388649a7683b9bfd8e",
       "version_major": 2,
       "version_minor": 0
      },
      "text/plain": [
       "special_tokens_map.json:   0%|          | 0.00/695 [00:00<?, ?B/s]"
      ]
     },
     "metadata": {},
     "output_type": "display_data"
    },
    {
     "data": {
      "application/vnd.jupyter.widget-view+json": {
       "model_id": "e296f4b491374c8fa683d62e2f8ca916",
       "version_major": 2,
       "version_minor": 0
      },
      "text/plain": [
       "preprocessor_config.json:   0%|          | 0.00/527 [00:00<?, ?B/s]"
      ]
     },
     "metadata": {},
     "output_type": "display_data"
    },
    {
     "data": {
      "application/vnd.jupyter.widget-view+json": {
       "model_id": "201aff005f5f4d04a9a0263483db6cb0",
       "version_major": 2,
       "version_minor": 0
      },
      "text/plain": [
       "processing_clip.py:   0%|          | 0.00/2.67k [00:00<?, ?B/s]"
      ]
     },
     "metadata": {},
     "output_type": "display_data"
    },
    {
     "name": "stderr",
     "output_type": "stream",
     "text": [
      "A new version of the following files was downloaded from https://huggingface.co/jinaai/jina-clip-implementation:\n",
      "- processing_clip.py\n",
      ". Make sure to double-check they do not contain any added malicious code. To avoid downloading new versions of the code file, you can pin a revision.\n"
     ]
    },
    {
     "name": "stdout",
     "output_type": "stream",
     "text": [
      "0.5635972\n",
      "0.2905935\n",
      "0.05685927\n",
      "0.12773362\n",
      "0.2915658\n"
     ]
    }
   ],
   "source": [
    "!pip install transformers einops timm pillow\n",
    "from transformers import AutoModel\n",
    "\n",
    "# Initialize the model\n",
    "model = AutoModel.from_pretrained('jinaai/jina-clip-v1', trust_remote_code=True)\n",
    "\n",
    "# New meaningful sentences\n",
    "sentences = ['A blue cat', 'A red cat']\n",
    "\n",
    "# Public image URLs\n",
    "image_urls = [\n",
    "    'https://i.pinimg.com/600x315/21/48/7e/21487e8e0970dd366dafaed6ab25d8d8.jpg',\n",
    "    'https://i.pinimg.com/736x/c9/f2/3e/c9f23e212529f13f19bad5602d84b78b.jpg'\n",
    "]\n",
    "\n",
    "# Encode text and images\n",
    "text_embeddings = model.encode_text(sentences)\n",
    "image_embeddings = model.encode_image(image_urls)  # also accepts PIL.image, local filenames, dataURI\n",
    "\n",
    "# Compute similarities\n",
    "print(text_embeddings[0] @ text_embeddings[1].T) # text embedding similarity\n",
    "print(text_embeddings[0] @ image_embeddings[0].T) # text-image cross-modal similarity\n",
    "print(text_embeddings[0] @ image_embeddings[1].T) # text-image cross-modal similarity\n",
    "print(text_embeddings[1] @ image_embeddings[0].T) # text-image cross-modal similarity\n",
    "print(text_embeddings[1] @ image_embeddings[1].T)# text-image cross-modal similarity\n"
   ]
  },
  {
   "cell_type": "code",
   "execution_count": 33,
   "id": "7135b511-9486-4ca2-973c-25ecca3be01b",
   "metadata": {},
   "outputs": [
    {
     "data": {
      "text/plain": [
       "array([5, 0])"
      ]
     },
     "execution_count": 33,
     "metadata": {},
     "output_type": "execute_result"
    }
   ],
   "source": [
    "labels_list = ['Buildings', 'Forests', 'Glacier', 'Mountains', 'Sea', 'Street']\n",
    "images = [\"./Scene/0/0.jpg\", \"./Scene/0/1.jpg\"]\n",
    "\n",
    "text_embeddings = model.encode_text(labels_list)\n",
    "image_embeddings = model.encode_image(images)\n",
    "\n",
    "rst = image_embeddings @ text_embeddings.T\n",
    "rst.argmax(axis=1)"
   ]
  },
  {
   "cell_type": "code",
   "execution_count": 41,
   "id": "4f68a7f4-8e8b-4872-8e7d-afa1f11df419",
   "metadata": {},
   "outputs": [],
   "source": [
    "from datetime import datetime\n",
    "import pandas as pd\n",
    "import os"
   ]
  },
  {
   "cell_type": "code",
   "execution_count": 42,
   "id": "2d78beff-c3c0-4664-b857-acaf7d768e4b",
   "metadata": {
    "scrolled": true
   },
   "outputs": [
    {
     "name": "stdout",
     "output_type": "stream",
     "text": [
      "1\n",
      "2\n",
      "3\n",
      "4\n",
      "5\n",
      "6\n",
      "7\n",
      "8\n",
      "9\n",
      "10\n",
      "11\n",
      "12\n",
      "13\n",
      "14\n",
      "15\n",
      "16\n",
      "17\n",
      "18\n",
      "19\n",
      "20\n",
      "21\n",
      "22\n",
      "23\n",
      "24\n",
      "25\n",
      "26\n",
      "27\n",
      "28\n",
      "29\n",
      "30\n",
      "31\n",
      "32\n",
      "33\n",
      "34\n",
      "35\n",
      "36\n",
      "37\n",
      "38\n",
      "39\n",
      "40\n",
      "41\n",
      "42\n",
      "43\n",
      "44\n",
      "45\n",
      "46\n",
      "47\n",
      "48\n",
      "49\n",
      "50\n",
      "51\n",
      "52\n",
      "53\n",
      "54\n",
      "55\n",
      "56\n",
      "57\n",
      "58\n",
      "59\n",
      "60\n",
      "61\n",
      "62\n",
      "63\n",
      "64\n",
      "65\n",
      "66\n",
      "67\n",
      "68\n",
      "69\n",
      "70\n",
      "71\n",
      "72\n",
      "73\n",
      "74\n",
      "75\n",
      "76\n",
      "77\n",
      "78\n",
      "79\n",
      "80\n",
      "81\n"
     ]
    }
   ],
   "source": [
    "current_time = datetime.now().strftime(\"%Y%m%d_%H%M%S\")\n",
    "\n",
    "submission = dict({'id_idx': [], 'label': []})\n",
    "\n",
    "for idx in range(81):\n",
    "    images = []\n",
    "    for i in range(100):\n",
    "        images.append(f\"./Scene/0/{idx*100 + i}.jpg\")\n",
    "        \n",
    "    image_embeddings = model.encode_image(images)\n",
    "    rst = image_embeddings @ text_embeddings.T\n",
    "    rst = rst.argmax(axis=1) \n",
    "\n",
    "    submission['label'] += list(rst)\n",
    "    \n",
    "    file_name = f'submission_{current_time}.csv'\n",
    "    submission['id_idx'] = list(range(len(submission['label'])))\n",
    "    pd.DataFrame(submission).to_csv(os.path.join(\"./submissions/\", file_name), index=False)\n",
    "    print(idx+1)"
   ]
  }
 ],
 "metadata": {
  "kernelspec": {
   "display_name": "Python 3 (ipykernel)",
   "language": "python",
   "name": "python3"
  },
  "language_info": {
   "codemirror_mode": {
    "name": "ipython",
    "version": 3
   },
   "file_extension": ".py",
   "mimetype": "text/x-python",
   "name": "python",
   "nbconvert_exporter": "python",
   "pygments_lexer": "ipython3",
   "version": "3.10.14"
  }
 },
 "nbformat": 4,
 "nbformat_minor": 5
}
