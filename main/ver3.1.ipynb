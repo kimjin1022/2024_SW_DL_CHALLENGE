{
 "cells": [
  {
   "cell_type": "code",
   "execution_count": 11,
   "id": "534a5997-ca35-40e7-810e-942474597438",
   "metadata": {},
   "outputs": [],
   "source": [
    "from transformers import pipeline\n",
    "from PIL import Image\n",
    "import requests\n",
    "from datetime import datetime\n",
    "import pandas as pd\n",
    "import os\n",
    "import torch"
   ]
  },
  {
   "cell_type": "code",
   "execution_count": 12,
   "id": "53567f55-62f4-4450-8b06-a7d86c3da901",
   "metadata": {},
   "outputs": [],
   "source": [
    "# load pipe\n",
    "image_classifier = pipeline(task=\"zero-shot-image-classification\", model=\"google/siglip-so400m-patch14-384\")"
   ]
  },
  {
   "cell_type": "code",
   "execution_count": 13,
   "id": "501355b0-c2c0-45f7-8975-07939297a14f",
   "metadata": {},
   "outputs": [],
   "source": [
    "def label2index(prompt):\n",
    "    labels = ['building', 'forest', 'glacier', 'mountain', 'sea', 'street']\n",
    "    for idx, text in enumerate(labels):\n",
    "        if text in prompt:\n",
    "            return idx\n",
    "    return -1"
   ]
  },
  {
   "cell_type": "code",
   "execution_count": 19,
   "id": "526c0cf3-76b3-4b0f-a0d4-774d3e2e8ade",
   "metadata": {},
   "outputs": [
    {
     "name": "stdout",
     "output_type": "stream",
     "text": [
      "0\n",
      "1\n"
     ]
    }
   ],
   "source": [
    "# load image\n",
    "image1 = Image.open(f\"./Scene/0/{1}.jpg\")\n",
    "image2 = Image.open(f\"./Scene/0/{2}.jpg\")\n",
    "\n",
    "# inference\n",
    "class_names=['building', 'forest', 'glacier', 'mountain', 'sea', 'street']\n",
    "\n",
    "# 다양한 prompt 생성\n",
    "candidate_labels = []\n",
    "for class_name in class_names:\n",
    "    candidate_labels.extend([\n",
    "        f\"A photo of a {class_name}\",\n",
    "        f\"An image depicting a {class_name}\",\n",
    "        f\"A scenic view of {class_name}\",\n",
    "        f\"A {class_name} landscape\",\n",
    "        f\"A snapshot of a {class_name}\",\n",
    "        f\"A beautiful {class_name} scene\",\n",
    "        f\"An artistic representation of {class_name}\",\n",
    "        f\"A {class_name} captured in nature\",\n",
    "        f\"A {class_name} during sunset\",\n",
    "        f\"A serene {class_name} environment\"\n",
    "    ])\n",
    "\n",
    "# 모델 추론\n",
    "images = [image1, image2]\n",
    "outputs = image_classifier(images, candidate_labels=candidate_labels)\n",
    "for output in outputs:\n",
    "    #print(output)\n",
    "    #print(output[0]['label'])\n",
    "    print(label2index(output[0]['label']))"
   ]
  },
  {
   "cell_type": "code",
   "execution_count": null,
   "id": "6e6d48c5-7bb0-4a2a-b919-9cf9a99953ac",
   "metadata": {},
   "outputs": [
    {
     "name": "stdout",
     "output_type": "stream",
     "text": [
      "0 10 20 30 40 50 60 70 80 90 100 110 120 130 140 150 160 170 180 190 200 210 220 230 240 250 260 270 280 290 300 310 320 330 340 350 360 370 380 390 400 410 420 430 440 450 460 470 480 490 500 510 520 530 540 550 560 570 580 590 600 610 620 630 640 650 660 670 680 690 700 710 720 730 740 750 760 770 780 790 800 810 820 830 840 850 860 870 880 890 900 910 920 930 940 950 960 970 980 990 1000 1010 1020 1030 1040 1050 1060 1070 1080 1090 1100 1110 1120 1130 1140 1150 1160 1170 1180 1190 1200 "
     ]
    }
   ],
   "source": [
    "img_nums = 8100\n",
    "submission = dict({'id_idx': list(range(img_nums)), 'label': []})\n",
    "start_time = datetime.now().strftime(\"%Y%m%d_%H%M%S\")\n",
    "file_name = f'submission_{start_time}.csv'\n",
    "\n",
    "for idx in range(0, 810):\n",
    "    print(idx*10, end=\" \")\n",
    "\n",
    "    images = []\n",
    "    for i in range(10):\n",
    "        image_idx = f\"./Scene/0/{idx*10 + i}.jpg\"\n",
    "        images.append(image_idx)\n",
    "\n",
    "    outputs = image_classifier(images, candidate_labels=candidate_labels)\n",
    "\n",
    "    for i in range(10):\n",
    "        img_label = outputs[i][0]['label']\n",
    "        submission['label'] += [label2index(img_label)]\n",
    "    \n",
    "    submission['id_idx'] = list(range(len(submission['label'])))\n",
    "    pd.DataFrame(submission).to_csv(os.path.join(\"/home/jinjinjara1022/ajou/submissions/\", file_name), index=False)\n",
    "\n",
    "submission['id_idx'] = list(range(len(submission['label'])))\n",
    "pd.DataFrame(submission).to_csv(os.path.join(\"/home/jinjinjara1022/ajou/submissions/\", file_name), index=False)"
   ]
  }
 ],
 "metadata": {
  "kernelspec": {
   "display_name": "Python 3 (ipykernel)",
   "language": "python",
   "name": "python3"
  },
  "language_info": {
   "codemirror_mode": {
    "name": "ipython",
    "version": 3
   },
   "file_extension": ".py",
   "mimetype": "text/x-python",
   "name": "python",
   "nbconvert_exporter": "python",
   "pygments_lexer": "ipython3",
   "version": "3.10.14"
  }
 },
 "nbformat": 4,
 "nbformat_minor": 5
}
