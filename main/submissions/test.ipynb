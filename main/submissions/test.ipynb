{
 "cells": [
  {
   "cell_type": "code",
   "execution_count": 59,
   "id": "d0f0e469-0c25-42e0-be7c-873f1c0e08cd",
   "metadata": {},
   "outputs": [
    {
     "name": "stdout",
     "output_type": "stream",
     "text": [
      "총 비교 항목 수: 300\n",
      "일치하는 항목 수: 284\n",
      "정확도: 94.67%\n"
     ]
    }
   ],
   "source": [
    "import pandas as pd\n",
    "\n",
    "# CSV 파일 읽기\n",
    "best = pd.read_csv(\"submission_20240828_000329.csv\").iloc[:300]\n",
    "test = pd.read_csv(\"DFN384-P3.csv\").iloc[:300]\n",
    "\n",
    "# 라벨 비교\n",
    "comparison = best['label'] == test['label']\n",
    "\n",
    "# 결과 출력 \n",
    "print(f\"총 비교 항목 수: {len(comparison)}\")\n",
    "print(f\"일치하는 항목 수: {comparison.sum()}\")\n",
    "print(f\"정확도: {comparison.mean() * 100:.2f}%\")"
   ]
  },
  {
   "cell_type": "code",
   "execution_count": 55,
   "id": "c5d82e63-c262-4ab2-9cb4-5b1146a04a85",
   "metadata": {},
   "outputs": [
    {
     "name": "stdout",
     "output_type": "stream",
     "text": [
      "총 비교 항목 수: 8100\n",
      "일치하는 항목 수: 7158\n",
      "정확도: 88.37%\n"
     ]
    }
   ],
   "source": [
    "import pandas as pd\n",
    "\n",
    "# CSV 파일 읽기\n",
    "best = pd.read_csv(\"OPEN-P10.csv\").iloc[:8100]\n",
    "test = pd.read_csv(\"OPEN-P3.csv\").iloc[:8100]\n",
    "\n",
    "\n",
    "# 라벨 비교\n",
    "comparison = best['label'] == test['label']\n",
    "\n",
    "# 결과 출력 \n",
    "print(f\"총 비교 항목 수: {len(comparison)}\")\n",
    "print(f\"일치하는 항목 수: {comparison.sum()}\")\n",
    "print(f\"정확도: {comparison.mean() * 100:.2f}%\")"
   ]
  },
  {
   "cell_type": "code",
   "execution_count": null,
   "id": "2389faab-fecc-4f3e-8d81-c9e2282f6370",
   "metadata": {},
   "outputs": [],
   "source": []
  }
 ],
 "metadata": {
  "kernelspec": {
   "display_name": "Python 3 (ipykernel)",
   "language": "python",
   "name": "python3"
  },
  "language_info": {
   "codemirror_mode": {
    "name": "ipython",
    "version": 3
   },
   "file_extension": ".py",
   "mimetype": "text/x-python",
   "name": "python",
   "nbconvert_exporter": "python",
   "pygments_lexer": "ipython3",
   "version": "3.10.14"
  }
 },
 "nbformat": 4,
 "nbformat_minor": 5
}
