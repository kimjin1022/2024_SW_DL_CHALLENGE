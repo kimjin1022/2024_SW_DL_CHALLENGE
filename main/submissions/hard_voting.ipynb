{
 "cells": [
  {
   "cell_type": "code",
   "execution_count": 4,
   "id": "ae750564-9291-4460-a6f7-e924e0c6041f",
   "metadata": {},
   "outputs": [
    {
     "name": "stderr",
     "output_type": "stream",
     "text": [
      "/tmp/ipykernel_2403890/505087192.py:36: FutureWarning: Series.__getitem__ treating keys as positions is deprecated. In a future version, integer keys will always be treated as labels (consistent with DataFrame behavior). To access a value by position, use `ser.iloc[pos]`\n",
      "  return row[0]\n"
     ]
    },
    {
     "name": "stdout",
     "output_type": "stream",
     "text": [
      "Submission saved to submission_20240827_235329.csv\n"
     ]
    }
   ],
   "source": [
    "import pandas as pd\n",
    "from datetime import datetime\n",
    "\n",
    "# 모델 예측 결과를 CSV에서 읽어옵니다.\n",
    "model1_preds = pd.read_csv(\"submission_20240827_103934.csv\") # apple/DFN5B-CLIP-ViT-H-14-378\t#0.86469\n",
    "model2_preds = pd.read_csv(\"submission_20240827_181034.csv\") # apple/DFN5B-CLIP-ViT-H-14\t\t#0.84962\t\t \n",
    "model3_preds = pd.read_csv(\"submission_20240822_040816.csv\") # BAAI/EVA-CLIP-8B\t\t\t        #0.85259\tver4.1\n",
    "model4_preds = pd.read_csv(\"submission_20240821_222833_ver4_0.csv\") # BAAI/EVA-CLIP-8B\t\t\t#0.85061\tver4.0\n",
    "model5_preds = pd.read_csv(\"submission_20240827_192321.csv\") # openai/clip-vit-large-patch14    #0.82961\tver1.9\n",
    "model6_preds = pd.read_csv(\"submission_20240827_141024.csv\") #JINA\n",
    "model7_preds = pd.read_csv(\"submission_20240827_205352.csv\") #DFN5B-large prompts\n",
    "\n",
    "\n",
    "# 데이터프레임 생성\n",
    "df = pd.DataFrame({\n",
    "    'model1': model1_preds['label'],\n",
    "#    'model2': model2_preds['label'],\n",
    "    'model3': model3_preds['label'],\n",
    "#    'model4': model4_preds['label'],\n",
    "    'model5': model5_preds['label'],\n",
    "#    'model6': model6_preds['label'],\n",
    "#    'model7': model7_preds['label'],\n",
    "})\n",
    "\n",
    "# 빈도수가 동일한 경우 첫 번째 모델의 예측값을 선택하기 위한 함수\n",
    "def mode_with_tie_breaking(row):\n",
    "    counts = row.value_counts()\n",
    "    # 가장 높은 빈도수\n",
    "    max_count = counts.max()\n",
    "    # 빈도수가 같은 값들\n",
    "    most_frequent = counts[counts == max_count].index.tolist()\n",
    "    if len(most_frequent) == 1:\n",
    "        return most_frequent[0]\n",
    "    # 빈도수가 같은 경우, 첫 번째 모델의 예측값 반환\n",
    "    return row[0]\n",
    "\n",
    "# 각 행에 대해 빈도수가 같은 경우 첫 번째 모델의 예측값을 선택\n",
    "final_preds = df.apply(mode_with_tie_breaking, axis=1).astype(int)\n",
    "\n",
    "# 결과를 submission 딕셔너리에 저장\n",
    "submission = dict({'id_idx': list(range(len(df))), 'label': final_preds})\n",
    "\n",
    "# 현재 시간에 따라 파일 이름 생성\n",
    "current_time = datetime.now().strftime(\"%Y%m%d_%H%M%S\")\n",
    "file_name = f'submission_{current_time}.csv'\n",
    "\n",
    "# 결과를 CSV 파일로 저장\n",
    "pd.DataFrame(submission).to_csv(file_name, index=False)\n",
    "\n",
    "print(f\"Submission saved to {file_name}\")"
   ]
  },
  {
   "cell_type": "code",
   "execution_count": null,
   "id": "f19ec07f-4e5d-41bc-888c-c513196ff6f7",
   "metadata": {},
   "outputs": [],
   "source": []
  }
 ],
 "metadata": {
  "kernelspec": {
   "display_name": "Python 3 (ipykernel)",
   "language": "python",
   "name": "python3"
  },
  "language_info": {
   "codemirror_mode": {
    "name": "ipython",
    "version": 3
   },
   "file_extension": ".py",
   "mimetype": "text/x-python",
   "name": "python",
   "nbconvert_exporter": "python",
   "pygments_lexer": "ipython3",
   "version": "3.10.14"
  }
 },
 "nbformat": 4,
 "nbformat_minor": 5
}
