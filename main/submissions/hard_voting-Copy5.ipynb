{
 "cells": [
  {
   "cell_type": "code",
   "execution_count": 1,
   "id": "ae750564-9291-4460-a6f7-e924e0c6041f",
   "metadata": {},
   "outputs": [],
   "source": [
    "import pandas as pd\n",
    "from datetime import datetime\n",
    "\n",
    "# 모델 예측 결과를 CSV에서 읽어옵니다.\n",
    "model1_preds = pd.read_csv(\"submission_20240827_103934.csv\") # apple/DFN5B-CLIP-ViT-H-14-378\t#0.86469\n",
    "model2_preds = pd.read_csv(\"submission_20240827_181034.csv\") # apple/DFN5B-CLIP-ViT-H-14\t\t#0.84962\t\t \n",
    "model3_preds = pd.read_csv(\"submission_20240822_040816.csv\") # BAAI/EVA-CLIP-8B\t\t\t        #0.85259\tver4.1\n",
    "model4_preds = pd.read_csv(\"submission_20240821_222833_ver4_0.csv\") # BAAI/EVA-CLIP-8B\t\t\t#0.85061\tver4.0\n",
    "#model5_preds = pd.read_csv(\"submission_20240827_192321.csv\") # openai/clip-vit-large-patch14    #0.82961\tver1.9\n",
    "#model6_preds = pd.read_csv(\"submission_20240827_141024.csv\") #JINA                              #0.80246\n",
    "model7_preds = pd.read_csv(\"submission_20240827_205352.csv\") #DFN5B-large prompts               #0.83950\n",
    "#model8_preds = pd.read_csv(\"submission_20240731_131330.csv\") #Salesforce/blip2-flan-t5-xl-v2.0  #0.80839"
   ]
  },
  {
   "cell_type": "code",
   "execution_count": 2,
   "id": "fcbc01e8-5232-4ecc-ad4e-f7671b3e1db4",
   "metadata": {},
   "outputs": [
    {
     "name": "stdout",
     "output_type": "stream",
     "text": [
      "Submission saved to submission_20240828_142317.csv\n"
     ]
    }
   ],
   "source": [
    "import pandas as pd\n",
    "from datetime import datetime\n",
    "\n",
    "weights = [0.86469, 0.84962, 0.85259, 0.85061, 0.83950] \n",
    "\n",
    "df = pd.DataFrame({\n",
    "    'model1': model1_preds['label'],\n",
    "    'model2': model2_preds['label'],\n",
    "    'model3': model3_preds['label'],\n",
    "    'model4': model4_preds['label'],\n",
    "    #'model5': model5_preds['label'],\n",
    "    #'model6': model6_preds['label'],\n",
    "    'model7': model7_preds['label'],\n",
    "    #'model8': model8_preds['label'],\n",
    "})\n",
    "\n",
    "# 가중치가 부여된 다수결 보팅 함수\n",
    "def weighted_vote(row, weights):\n",
    "    unique_labels = row.unique()\n",
    "    scores = {label: 0 for label in unique_labels}\n",
    "    \n",
    "    # 가중치를 부여하여 각 라벨의 점수 계산\n",
    "    for i, label in enumerate(row):\n",
    "        scores[label] += weights[i]\n",
    "    \n",
    "    # 가장 높은 점수를 받은 라벨 선택\n",
    "    max_label = max(scores, key=scores.get)\n",
    "    return max_label\n",
    "\n",
    "# 각 행에 대해 가중치가 부여된 보팅 수행\n",
    "final_preds = df.apply(lambda row: weighted_vote(row, weights), axis=1).astype(int)\n",
    "\n",
    "# 결과를 submission 딕셔너리에 저장\n",
    "submission = dict({'id_idx': list(range(len(df))), 'label': final_preds})\n",
    "\n",
    "# 현재 시간에 따라 파일 이름 생성\n",
    "current_time = datetime.now().strftime(\"%Y%m%d_%H%M%S\")\n",
    "file_name = f'submission_{current_time}.csv'\n",
    "\n",
    "# 결과를 CSV 파일로 저장\n",
    "pd.DataFrame(submission).to_csv(file_name, index=False)\n",
    "\n",
    "print(f\"Submission saved to {file_name}\")"
   ]
  }
 ],
 "metadata": {
  "kernelspec": {
   "display_name": "Python 3 (ipykernel)",
   "language": "python",
   "name": "python3"
  },
  "language_info": {
   "codemirror_mode": {
    "name": "ipython",
    "version": 3
   },
   "file_extension": ".py",
   "mimetype": "text/x-python",
   "name": "python",
   "nbconvert_exporter": "python",
   "pygments_lexer": "ipython3",
   "version": "3.10.14"
  }
 },
 "nbformat": 4,
 "nbformat_minor": 5
}
