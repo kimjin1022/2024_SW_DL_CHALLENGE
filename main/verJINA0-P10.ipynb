{
 "cells": [
  {
   "cell_type": "code",
   "execution_count": 1,
   "id": "e32afbf9-808e-4b48-a9d0-a8479716cba3",
   "metadata": {
    "scrolled": true
   },
   "outputs": [
    {
     "name": "stdout",
     "output_type": "stream",
     "text": [
      "Defaulting to user installation because normal site-packages is not writeable\n",
      "Requirement already satisfied: transformers in /home/jinjinjara1022/.local/lib/python3.10/site-packages (4.44.1)\n",
      "Requirement already satisfied: einops in /home/jinjinjara1022/.local/lib/python3.10/site-packages (0.8.0)\n",
      "Requirement already satisfied: timm in /home/jinjinjara1022/.local/lib/python3.10/site-packages (1.0.9)\n",
      "Requirement already satisfied: pillow in /home/jinjinjara1022/.local/lib/python3.10/site-packages (10.3.0)\n",
      "Requirement already satisfied: huggingface-hub<1.0,>=0.23.2 in /home/jinjinjara1022/.local/lib/python3.10/site-packages (from transformers) (0.24.5)\n",
      "Requirement already satisfied: regex!=2019.12.17 in /home/jinjinjara1022/.local/lib/python3.10/site-packages (from transformers) (2024.7.24)\n",
      "Requirement already satisfied: tokenizers<0.20,>=0.19 in /home/jinjinjara1022/.local/lib/python3.10/site-packages (from transformers) (0.19.1)\n",
      "Requirement already satisfied: numpy>=1.17 in /home/jinjinjara1022/.local/lib/python3.10/site-packages (from transformers) (1.26.4)\n",
      "Requirement already satisfied: pyyaml>=5.1 in /usr/lib/python3/dist-packages (from transformers) (5.4.1)\n",
      "Requirement already satisfied: requests in /home/jinjinjara1022/.local/lib/python3.10/site-packages (from transformers) (2.31.0)\n",
      "Requirement already satisfied: tqdm>=4.27 in /home/jinjinjara1022/.local/lib/python3.10/site-packages (from transformers) (4.66.4)\n",
      "Requirement already satisfied: safetensors>=0.4.1 in /home/jinjinjara1022/.local/lib/python3.10/site-packages (from transformers) (0.4.3)\n",
      "Requirement already satisfied: filelock in /home/jinjinjara1022/.local/lib/python3.10/site-packages (from transformers) (3.14.0)\n",
      "Requirement already satisfied: packaging>=20.0 in /home/jinjinjara1022/.local/lib/python3.10/site-packages (from transformers) (24.0)\n",
      "Requirement already satisfied: torch in /home/jinjinjara1022/.local/lib/python3.10/site-packages (from timm) (2.0.1)\n",
      "Requirement already satisfied: torchvision in /home/jinjinjara1022/.local/lib/python3.10/site-packages (from timm) (0.15.2+cu117)\n",
      "Requirement already satisfied: typing-extensions>=3.7.4.3 in /home/jinjinjara1022/.local/lib/python3.10/site-packages (from huggingface-hub<1.0,>=0.23.2->transformers) (4.11.0)\n",
      "Requirement already satisfied: fsspec>=2023.5.0 in /home/jinjinjara1022/.local/lib/python3.10/site-packages (from huggingface-hub<1.0,>=0.23.2->transformers) (2024.3.1)\n",
      "Requirement already satisfied: urllib3<3,>=1.21.1 in /usr/lib/python3/dist-packages (from requests->transformers) (1.26.5)\n",
      "Requirement already satisfied: certifi>=2017.4.17 in /usr/lib/python3/dist-packages (from requests->transformers) (2020.6.20)\n",
      "Requirement already satisfied: charset-normalizer<4,>=2 in /home/jinjinjara1022/.local/lib/python3.10/site-packages (from requests->transformers) (3.3.2)\n",
      "Requirement already satisfied: idna<4,>=2.5 in /usr/lib/python3/dist-packages (from requests->transformers) (3.3)\n",
      "Requirement already satisfied: nvidia-cuda-runtime-cu11==11.7.99 in /home/jinjinjara1022/.local/lib/python3.10/site-packages (from torch->timm) (11.7.99)\n",
      "Requirement already satisfied: sympy in /home/jinjinjara1022/.local/lib/python3.10/site-packages (from torch->timm) (1.12)\n",
      "Requirement already satisfied: nvidia-cusparse-cu11==11.7.4.91 in /home/jinjinjara1022/.local/lib/python3.10/site-packages (from torch->timm) (11.7.4.91)\n",
      "Requirement already satisfied: nvidia-nvtx-cu11==11.7.91 in /home/jinjinjara1022/.local/lib/python3.10/site-packages (from torch->timm) (11.7.91)\n",
      "Requirement already satisfied: nvidia-cublas-cu11==11.10.3.66 in /home/jinjinjara1022/.local/lib/python3.10/site-packages (from torch->timm) (11.10.3.66)\n",
      "Requirement already satisfied: nvidia-nccl-cu11==2.14.3 in /home/jinjinjara1022/.local/lib/python3.10/site-packages (from torch->timm) (2.14.3)\n",
      "Requirement already satisfied: nvidia-cusolver-cu11==11.4.0.1 in /home/jinjinjara1022/.local/lib/python3.10/site-packages (from torch->timm) (11.4.0.1)\n",
      "Requirement already satisfied: triton==2.0.0 in /home/jinjinjara1022/.local/lib/python3.10/site-packages (from torch->timm) (2.0.0)\n",
      "Requirement already satisfied: nvidia-cufft-cu11==10.9.0.58 in /home/jinjinjara1022/.local/lib/python3.10/site-packages (from torch->timm) (10.9.0.58)\n",
      "Requirement already satisfied: networkx in /home/jinjinjara1022/.local/lib/python3.10/site-packages (from torch->timm) (3.3)\n",
      "Requirement already satisfied: nvidia-curand-cu11==10.2.10.91 in /home/jinjinjara1022/.local/lib/python3.10/site-packages (from torch->timm) (10.2.10.91)\n",
      "Requirement already satisfied: nvidia-cudnn-cu11==8.5.0.96 in /home/jinjinjara1022/.local/lib/python3.10/site-packages (from torch->timm) (8.5.0.96)\n",
      "Requirement already satisfied: jinja2 in /home/jinjinjara1022/.local/lib/python3.10/site-packages (from torch->timm) (3.1.4)\n",
      "Requirement already satisfied: nvidia-cuda-cupti-cu11==11.7.101 in /home/jinjinjara1022/.local/lib/python3.10/site-packages (from torch->timm) (11.7.101)\n",
      "Requirement already satisfied: nvidia-cuda-nvrtc-cu11==11.7.99 in /home/jinjinjara1022/.local/lib/python3.10/site-packages (from torch->timm) (11.7.99)\n",
      "Requirement already satisfied: setuptools in /usr/lib/python3/dist-packages (from nvidia-cublas-cu11==11.10.3.66->torch->timm) (59.6.0)\n",
      "Requirement already satisfied: wheel in /usr/lib/python3/dist-packages (from nvidia-cublas-cu11==11.10.3.66->torch->timm) (0.37.1)\n",
      "Requirement already satisfied: cmake in /home/jinjinjara1022/.local/lib/python3.10/site-packages (from triton==2.0.0->torch->timm) (3.30.2)\n",
      "Requirement already satisfied: lit in /home/jinjinjara1022/.local/lib/python3.10/site-packages (from triton==2.0.0->torch->timm) (18.1.8)\n",
      "Requirement already satisfied: MarkupSafe>=2.0 in /home/jinjinjara1022/.local/lib/python3.10/site-packages (from jinja2->torch->timm) (2.1.5)\n",
      "Requirement already satisfied: mpmath>=0.19 in /home/jinjinjara1022/.local/lib/python3.10/site-packages (from sympy->torch->timm) (1.3.0)\n",
      "0.5635972\n",
      "0.2905935\n",
      "0.05685927\n",
      "0.12773362\n",
      "0.2915658\n"
     ]
    }
   ],
   "source": [
    "!pip install transformers einops timm pillow\n",
    "from transformers import AutoModel\n",
    "\n",
    "# Initialize the model\n",
    "model = AutoModel.from_pretrained('jinaai/jina-clip-v1', trust_remote_code=True)\n",
    "\n",
    "# New meaningful sentences\n",
    "sentences = ['A blue cat', 'A red cat']\n",
    "\n",
    "# Public image URLs\n",
    "image_urls = [\n",
    "    'https://i.pinimg.com/600x315/21/48/7e/21487e8e0970dd366dafaed6ab25d8d8.jpg',\n",
    "    'https://i.pinimg.com/736x/c9/f2/3e/c9f23e212529f13f19bad5602d84b78b.jpg'\n",
    "]\n",
    "\n",
    "# Encode text and images\n",
    "text_embeddings = model.encode_text(sentences)\n",
    "image_embeddings = model.encode_image(image_urls)  # also accepts PIL.image, local filenames, dataURI\n",
    "\n",
    "# Compute similarities\n",
    "print(text_embeddings[0] @ text_embeddings[1].T) # text embedding similarity\n",
    "print(text_embeddings[0] @ image_embeddings[0].T) # text-image cross-modal similarity\n",
    "print(text_embeddings[0] @ image_embeddings[1].T) # text-image cross-modal similarity\n",
    "print(text_embeddings[1] @ image_embeddings[0].T) # text-image cross-modal similarity\n",
    "print(text_embeddings[1] @ image_embeddings[1].T)# text-image cross-modal similarity\n"
   ]
  },
  {
   "cell_type": "code",
   "execution_count": 5,
   "id": "7135b511-9486-4ca2-973c-25ecca3be01b",
   "metadata": {},
   "outputs": [
    {
     "data": {
      "text/plain": [
       "array([5, 0])"
      ]
     },
     "execution_count": 5,
     "metadata": {},
     "output_type": "execute_result"
    }
   ],
   "source": [
    "images = [\"./Scene/0/0.jpg\", \"./Scene/0/1.jpg\"]\n",
    "\n",
    "class_names= ['Buildings', 'Forests', 'Glacier', 'Mountains', 'Sea', 'Street']\n",
    "\n",
    "labels_list = []\n",
    "for class_name in class_names:\n",
    "    labels_list.extend([\n",
    "        f\"A photo of a {class_name}\",\n",
    "        f\"An image depicting a {class_name}\",\n",
    "        f\"A scenic view of {class_name}\",\n",
    "        f\"A {class_name} landscape\",\n",
    "        f\"A snapshot of a {class_name}\",\n",
    "        f\"A beautiful {class_name} scene\",\n",
    "        f\"An artistic representation of {class_name}\",\n",
    "        f\"A {class_name} captured in nature\",\n",
    "        f\"A {class_name} during sunset\",\n",
    "        f\"A serene {class_name} environment\"\n",
    "    ])\n",
    "\n",
    "\n",
    "text_embeddings = model.encode_text(labels_list)\n",
    "image_embeddings = model.encode_image(images)\n",
    "\n",
    "rst = image_embeddings @ text_embeddings.T\n",
    "rst = rst.argmax(axis=1)\n",
    "rst = rst // 10\n",
    "rst"
   ]
  },
  {
   "cell_type": "code",
   "execution_count": 6,
   "id": "4f68a7f4-8e8b-4872-8e7d-afa1f11df419",
   "metadata": {},
   "outputs": [],
   "source": [
    "from datetime import datetime\n",
    "import pandas as pd\n",
    "import os"
   ]
  },
  {
   "cell_type": "code",
   "execution_count": 7,
   "id": "2d78beff-c3c0-4664-b857-acaf7d768e4b",
   "metadata": {},
   "outputs": [
    {
     "name": "stdout",
     "output_type": "stream",
     "text": [
      "JINA-P10.csv\n",
      "1 2 3 4 5 6 7 8 9 10 11 12 13 14 15 16 17 18 19 20 21 22 23 24 25 26 27 28 29 30 31 32 33 34 35 36 37 38 39 40 41 42 43 44 45 46 47 48 49 50 51 52 53 54 55 56 57 58 59 60 61 62 63 64 65 66 67 68 69 70 71 72 73 74 75 76 77 78 79 80 81 "
     ]
    }
   ],
   "source": [
    "file_name = \"JINA-P10.csv\"\n",
    "print(file_name)\n",
    "\n",
    "submission = dict({'id_idx': [], 'label': []})\n",
    "\n",
    "for idx in range(81):\n",
    "    images = []\n",
    "    for i in range(100):\n",
    "        images.append(f\"./Scene/0/{idx*100 + i}.jpg\")\n",
    "        \n",
    "    image_embeddings = model.encode_image(images)\n",
    "    rst = image_embeddings @ text_embeddings.T\n",
    "    rst = rst.argmax(axis=1) \n",
    "    rst = rst // 10\n",
    "\n",
    "    submission['label'] += list(rst)\n",
    "    submission['id_idx'] = list(range(len(submission['label'])))\n",
    "    pd.DataFrame(submission).to_csv(os.path.join(\"./submissions/\", file_name), index=False)\n",
    "    print(idx+1, end=\" \")"
   ]
  }
 ],
 "metadata": {
  "kernelspec": {
   "display_name": "Python 3 (ipykernel)",
   "language": "python",
   "name": "python3"
  },
  "language_info": {
   "codemirror_mode": {
    "name": "ipython",
    "version": 3
   },
   "file_extension": ".py",
   "mimetype": "text/x-python",
   "name": "python",
   "nbconvert_exporter": "python",
   "pygments_lexer": "ipython3",
   "version": "3.10.14"
  }
 },
 "nbformat": 4,
 "nbformat_minor": 5
}
