{
 "cells": [
  {
   "cell_type": "code",
   "execution_count": 4,
   "id": "6870bee1-9870-4232-972c-209777c00a8d",
   "metadata": {},
   "outputs": [],
   "source": [
    "import torch\n",
    "import torch.nn.functional as F\n",
    "from urllib.request import urlopen\n",
    "from PIL import Image\n",
    "from open_clip import create_model_from_pretrained, get_tokenizer \n",
    "\n",
    "model, preprocess = create_model_from_pretrained('hf-hub:apple/DFN5B-CLIP-ViT-H-14')\n",
    "tokenizer = get_tokenizer('ViT-H-14')\n",
    "\n",
    "image = Image.open(\"./Scene/0/0.jpg\")\n",
    "image = preprocess(image).unsqueeze(0)\n",
    "\n",
    "labels_list = ['Buildings', 'Forests', 'Glacier', 'Mountains', 'Sea', 'Street']\n",
    "text = tokenizer(labels_list, context_length=model.context_length)"
   ]
  },
  {
   "cell_type": "code",
   "execution_count": 5,
   "id": "b3967136-aa0d-4ab2-8b06-f2248bd9ce79",
   "metadata": {},
   "outputs": [
    {
     "name": "stdout",
     "output_type": "stream",
     "text": [
      "Label probabilities:  [('Buildings', 0.913), ('Forests', 0.73), ('Glacier', 0.866), ('Mountains', 0.636), ('Sea', 0.716), ('Street', 0.967)]\n"
     ]
    }
   ],
   "source": [
    "with torch.no_grad(), torch.cuda.amp.autocast():\n",
    "    image_features = model.encode_image(image)\n",
    "    text_features = model.encode_text(text)\n",
    "    image_features = F.normalize(image_features, dim=-1)\n",
    "    text_features = F.normalize(text_features, dim=-1)\n",
    "\n",
    "    text_probs = torch.sigmoid(image_features @ text_features.T * model.logit_scale.exp())\n",
    "\n",
    "zipped_list = list(zip(labels_list, [round(p.item(), 3) for p in text_probs[0]]))\n",
    "print(\"Label probabilities: \", zipped_list)"
   ]
  },
  {
   "cell_type": "code",
   "execution_count": 3,
   "id": "c6b098ba-4bea-4c95-ab80-4ceebbafe8dd",
   "metadata": {},
   "outputs": [],
   "source": [
    "from datetime import datetime\n",
    "import pandas as pd\n",
    "import os"
   ]
  },
  {
   "cell_type": "code",
   "execution_count": null,
   "id": "78e06bd1-f3d6-48d3-b0df-6a8bbfc0ac68",
   "metadata": {},
   "outputs": [
    {
     "name": "stdout",
     "output_type": "stream",
     "text": [
      "submission_20240828_165031.csv\n",
      "1 2 3 4 5 6 7 8 9 10 11 12 13 14 15 16 17 18 19 20 21 22 23 24 25 26 27 28 29 30 31 32 33 34 35 36 37 38 39 40 41 42 43 44 45 46 47 48 49 50 51 52 53 "
     ]
    }
   ],
   "source": [
    "current_time = datetime.now().strftime(\"%Y%m%d_%H%M%S\")\n",
    "file_name = f'submission_{current_time}.csv'\n",
    "print(file_name)\n",
    "\n",
    "img_nums = 8100\n",
    "submission = dict({'id_idx': [], 'label': []})\n",
    "\n",
    "for idx in range(img_nums):\n",
    "    image = Image.open(f\"./Scene/0/{idx}.jpg\")\n",
    "    image = preprocess(image).unsqueeze(0)\n",
    "\n",
    "    with torch.no_grad(), torch.cuda.amp.autocast():\n",
    "        image_features = model.encode_image(image)\n",
    "        text_features = model.encode_text(text)\n",
    "        image_features = F.normalize(image_features, dim=-1)\n",
    "        text_features = F.normalize(text_features, dim=-1)    \n",
    "        text_probs = torch.sigmoid(image_features @ text_features.T * model.logit_scale.exp())\n",
    "\n",
    "    submission['label'] += [int(text_probs.argmax().cpu())]\n",
    "    \n",
    "    if (idx+1)%100 == 0:\n",
    "        submission['id_idx'] = list(range(len(submission['label'])))\n",
    "        pd.DataFrame(submission).to_csv(os.path.join(\"./submissions/\", file_name), index=False)\n",
    "        print((idx+1)//100, end=\" \")"
   ]
  }
 ],
 "metadata": {
  "kernelspec": {
   "display_name": "Python 3 (ipykernel)",
   "language": "python",
   "name": "python3"
  },
  "language_info": {
   "codemirror_mode": {
    "name": "ipython",
    "version": 3
   },
   "file_extension": ".py",
   "mimetype": "text/x-python",
   "name": "python",
   "nbconvert_exporter": "python",
   "pygments_lexer": "ipython3",
   "version": "3.10.14"
  }
 },
 "nbformat": 4,
 "nbformat_minor": 5
}
